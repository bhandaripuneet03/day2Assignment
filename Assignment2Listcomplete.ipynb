{
 "cells": [
  {
   "cell_type": "code",
   "execution_count": 2,
   "id": "85abe520-3da7-4916-8124-982f44681ae1",
   "metadata": {},
   "outputs": [
    {
     "name": "stdin",
     "output_type": "stream",
     "text": [
      "enter the number in the list : 1\n",
      "enter the number in the list : 2\n",
      "enter the number in the list : 3\n",
      "enter the number in the list : 4\n",
      "enter the number in the list : 5\n",
      "enter the number in the list : 6\n",
      "enter the number in the list : 7\n",
      "enter the number in the list : 8\n",
      "enter the number in the list : 9\n",
      "enter the number in the list : 10\n"
     ]
    },
    {
     "name": "stdout",
     "output_type": "stream",
     "text": [
      "[1, 2, 3, 4, 5, 6, 7, 8, 9, 10]\n"
     ]
    }
   ],
   "source": [
    "# 1. Create a list with integers from 1 to 10.\n",
    "\n",
    "list=[]\n",
    "\n",
    "for i in range(10):\n",
    "      element=int(input(\"enter the number in the list :\"))\n",
    "      list.append(element)\n",
    "    \n",
    "print(list)\n"
   ]
  },
  {
   "cell_type": "code",
   "execution_count": 4,
   "id": "2e8eb34b-bac0-4484-bd8c-06f65bf75c94",
   "metadata": {},
   "outputs": [
    {
     "name": "stdout",
     "output_type": "stream",
     "text": [
      "10\n"
     ]
    }
   ],
   "source": [
    "# 2. Find the length of a list without using the `len()` function.\n",
    "list=[1, 2, 3, 4, 5, 6, 7, 8, 9, 10]\n",
    "\n",
    "count=0\n",
    "for i in list:\n",
    "    count =count+1\n",
    "      \n",
    "    \n",
    "print(count)\n"
   ]
  },
  {
   "cell_type": "code",
   "execution_count": 6,
   "id": "dc852212-bef5-4dec-bcea-8fda544f92d3",
   "metadata": {},
   "outputs": [
    {
     "name": "stdout",
     "output_type": "stream",
     "text": [
      "[1, 2, 3, 4, 5, 6, 7, 8, 9, 10, 11]\n"
     ]
    }
   ],
   "source": [
    "# 3. Append an element to the end of a list.\n",
    "\n",
    "list=[1, 2, 3, 4, 5, 6, 7, 8, 9, 10]\n",
    "\n",
    "list.append(11)\n",
    "print(list)\n"
   ]
  },
  {
   "cell_type": "code",
   "execution_count": 8,
   "id": "4d77c23f-e90d-4e19-bd51-050c7d2ea0da",
   "metadata": {},
   "outputs": [
    {
     "name": "stdout",
     "output_type": "stream",
     "text": [
      "[1, 2, 3, 12, 4, 5, 6, 7, 8, 9, 10]\n"
     ]
    }
   ],
   "source": [
    "# 4. Insert an element at a specific index in a list.\n",
    "\n",
    "list=[1, 2, 3, 4, 5, 6, 7, 8, 9, 10]\n",
    "\n",
    "list.insert(3,12) #3 is the idx value and 12 is the inserted element\n",
    "print(list)\n"
   ]
  },
  {
   "cell_type": "code",
   "execution_count": 10,
   "id": "5cbe3be6-3a33-4961-a829-84eb0ec64392",
   "metadata": {},
   "outputs": [
    {
     "name": "stdout",
     "output_type": "stream",
     "text": [
      "[1, 2, 3, 4, 5, 6, 7, 8, 9, 10]\n"
     ]
    }
   ],
   "source": [
    "# 5. Remove an element from a list by its value.\n",
    "\n",
    "\n",
    "list =[1, 2, 3, 12, 4, 5, 6, 7, 8, 9, 10]\n",
    "valuetodel=12\n",
    "list2=[]\n",
    "for i in range(len(list)):\n",
    "    if list[i] == valuetodel:\n",
    "        continue\n",
    "    else:\n",
    "        list2.append(list[i])\n",
    "        \n",
    "list = list2\n",
    "print(list)"
   ]
  },
  {
   "cell_type": "code",
   "execution_count": 2,
   "id": "b68eabd9-b2dc-47ab-abc2-1b1e4ca0898b",
   "metadata": {},
   "outputs": [
    {
     "name": "stdout",
     "output_type": "stream",
     "text": [
      "[1, 2, 3, 4, 5, 6, 7, 8, 9, 10]\n"
     ]
    }
   ],
   "source": [
    "#6. Remove an element from a list by its index.\n",
    "list =[1, 2, 3, 12, 4, 5, 6, 7, 8, 9, 10]\n",
    "indxval =3\n",
    "list2=[]\n",
    "for i in range(len(list)):\n",
    "    if i == indxval:\n",
    "        continue\n",
    "    else:\n",
    "        list2.append(list[i])\n",
    "        \n",
    "list = list2\n",
    "print(list)"
   ]
  },
  {
   "cell_type": "code",
   "execution_count": 4,
   "id": "6361d9df-9aa2-4053-b1b7-e70891db3d8b",
   "metadata": {},
   "outputs": [
    {
     "name": "stdout",
     "output_type": "stream",
     "text": [
      "True\n"
     ]
    }
   ],
   "source": [
    "#6. 7. Check if an element exists in a list.\n",
    "\n",
    "list =[1, 2, 3, 12, 4, 5, 6, 7, 8, 9, 10]\n",
    "existval=9\n",
    "print(list.__contains__(existval))"
   ]
  },
  {
   "cell_type": "code",
   "execution_count": 6,
   "id": "7fcf2ebc-4503-46b3-8714-79e10c14702a",
   "metadata": {},
   "outputs": [
    {
     "name": "stdout",
     "output_type": "stream",
     "text": [
      "2\n"
     ]
    }
   ],
   "source": [
    "# 8. Find the index of the first occurrence of an element in a list.\n",
    "\n",
    "\n",
    "list =[1, 2, 5, 12, 4, 5,5,5, 6, 7, 8, 9, 10]\n",
    "print(list.index(5))"
   ]
  },
  {
   "cell_type": "code",
   "execution_count": 8,
   "id": "a9894356-d5c2-417b-a19b-74cce9506e0c",
   "metadata": {},
   "outputs": [
    {
     "name": "stdout",
     "output_type": "stream",
     "text": [
      "4\n"
     ]
    }
   ],
   "source": [
    "# 8. Find the index of the first occurrence of an element in a list.\n",
    "\n",
    "\n",
    "list =[1, 2, 5, 12, 4, 5,5,5, 6, 7, 8, 9, 10]\n",
    "print(list.count(5))\n"
   ]
  },
  {
   "cell_type": "code",
   "execution_count": 10,
   "id": "b66c68f9-e8e9-4a9b-9b2e-5f614fdec99f",
   "metadata": {},
   "outputs": [
    {
     "name": "stdout",
     "output_type": "stream",
     "text": [
      "[10, 9, 8, 7, 6, 5, 5, 5, 4, 12, 5, 2, 1]\n"
     ]
    }
   ],
   "source": [
    "#10. Reverse the order of elements in a list.\n",
    "\n",
    "list =[1, 2, 5, 12, 4, 5,5,5, 6, 7, 8, 9, 10]\n",
    "print(list[::-1])"
   ]
  },
  {
   "cell_type": "code",
   "execution_count": 12,
   "id": "0d23099a-0099-4876-853d-2f8f8f2bdfea",
   "metadata": {},
   "outputs": [
    {
     "name": "stdout",
     "output_type": "stream",
     "text": [
      "[1, 2, 4, 5, 5, 5, 5, 6, 7, 8, 9, 10, 12]\n"
     ]
    }
   ],
   "source": [
    "# 11. Sort a list in ascending order.\n",
    "\n",
    "\n",
    "list =[1, 2, 5, 12, 4, 5,5,5, 6, 7, 8, 9, 10]\n",
    "list.sort()\n",
    "print(list)"
   ]
  },
  {
   "cell_type": "code",
   "execution_count": 14,
   "id": "c077440d-1f13-4613-8bf2-0024c7adcc2a",
   "metadata": {},
   "outputs": [
    {
     "name": "stdout",
     "output_type": "stream",
     "text": [
      "[12, 10, 9, 8, 7, 6, 5, 5, 5, 5, 4, 2, 1]\n"
     ]
    }
   ],
   "source": [
    "#  12. Sort a list in descending order.\n",
    "\n",
    "\n",
    "\n",
    "list =[1, 2, 5, 12, 4, 5,5,5, 6, 7, 8, 9, 10]\n",
    "list.sort(reverse =True)\n",
    "print(list)"
   ]
  },
  {
   "cell_type": "code",
   "execution_count": 16,
   "id": "7eeed742-eb7e-46e6-9465-5d9725e62950",
   "metadata": {},
   "outputs": [
    {
     "name": "stdout",
     "output_type": "stream",
     "text": [
      "[0, 2, 4, 6, 8, 10, 12, 14, 16, 18]\n"
     ]
    }
   ],
   "source": [
    "#  13. Create a list of even numbers from 1 to 20.\n",
    "\n",
    "list=[]\n",
    "\n",
    "for i in range(20):\n",
    "    if i%2 == 0:\n",
    "        list.append(i)\n",
    "    else:\n",
    "        continue\n",
    "\n",
    "print(list)"
   ]
  },
  {
   "cell_type": "code",
   "execution_count": 18,
   "id": "926569f4-2a06-4cd0-a47a-3ebe19c0e22c",
   "metadata": {},
   "outputs": [
    {
     "name": "stdout",
     "output_type": "stream",
     "text": [
      "[1, 3, 5, 7, 9, 11, 13, 15, 17, 19]\n"
     ]
    }
   ],
   "source": [
    "#  14. Create a list of odd numbers from 1 to 20.\n",
    "\n",
    "list=[]\n",
    "\n",
    "for i in range(20):\n",
    "    if i%2 != 0:\n",
    "        list.append(i)\n",
    "    else:\n",
    "        continue\n",
    "\n",
    "print(list)"
   ]
  },
  {
   "cell_type": "code",
   "execution_count": 20,
   "id": "bea8205f-cd21-477f-a178-1c945076a4f4",
   "metadata": {},
   "outputs": [
    {
     "name": "stdout",
     "output_type": "stream",
     "text": [
      "25\n"
     ]
    }
   ],
   "source": [
    "#  15. Find the sum of all elements in a list.\n",
    "\n",
    "\n",
    "list=[1, 3, 5, 7, 9]\n",
    "sum=0\n",
    "\n",
    "for i in range(len(list)):\n",
    "    sum = sum+list[i]\n",
    "    \n",
    "    \n",
    "print(sum)"
   ]
  },
  {
   "cell_type": "code",
   "execution_count": 24,
   "id": "f42aa747-c24b-49f9-bf79-53e62db738f7",
   "metadata": {},
   "outputs": [
    {
     "name": "stdout",
     "output_type": "stream",
     "text": [
      "[1, 2, 3, 5, 5, 6, 7, 9]\n",
      "9\n"
     ]
    }
   ],
   "source": [
    "#  16 Find the maximum value in a list.\n",
    "\n",
    "\n",
    "\n",
    "list=[1, 3, 5, 7, 9,2,5,6]\n",
    "list.sort()\n",
    "print(list)\n",
    "print(list[-1])\n",
    "    \n"
   ]
  },
  {
   "cell_type": "code",
   "execution_count": 26,
   "id": "b7e11535-a401-495a-816a-83f044593f68",
   "metadata": {},
   "outputs": [
    {
     "name": "stdout",
     "output_type": "stream",
     "text": [
      "[1, 2, 3, 5, 5, 6, 7, 9]\n",
      "1\n"
     ]
    }
   ],
   "source": [
    "#  17. Find the minimum value in a list.\n",
    "\n",
    "list=[1, 3, 5, 7, 9,2,5,6]\n",
    "list.sort()\n",
    "print(list)\n",
    "print(list[0])"
   ]
  },
  {
   "cell_type": "code",
   "execution_count": 28,
   "id": "fe20836f-5962-47e6-b931-7338d4afe1f7",
   "metadata": {},
   "outputs": [
    {
     "name": "stdout",
     "output_type": "stream",
     "text": [
      "[1, 9, 25, 49, 81, 4, 25, 36]\n"
     ]
    }
   ],
   "source": [
    "#  18. Create a list of squares of numbers from 1 to 10.\n",
    "\n",
    "\n",
    "list=[1, 3, 5, 7, 9,2,5,6]\n",
    "\n",
    "for i in range(len(list)):\n",
    "    list[i]= list[i] * list[i]\n",
    "    \n",
    "print(list)"
   ]
  },
  {
   "cell_type": "code",
   "execution_count": 30,
   "id": "f9596f3b-2391-4cd7-a238-966f22aad9ae",
   "metadata": {},
   "outputs": [
    {
     "name": "stdout",
     "output_type": "stream",
     "text": [
      "[16, 1, 9, 96, 45, 62, 85, 16, 20, 62]\n"
     ]
    }
   ],
   "source": [
    "#  19. Create a list of random numbers.\n",
    "\n",
    "#learn this random library from thr google to generate random number\n",
    "import random\n",
    "list=[]\n",
    "\n",
    "for i in range(10):\n",
    "   list.append(random.randint(1,100))\n",
    "    \n",
    "print(list)\n"
   ]
  },
  {
   "cell_type": "code",
   "execution_count": 32,
   "id": "007230e2-8ee7-4184-b174-941bbe5ab562",
   "metadata": {},
   "outputs": [
    {
     "name": "stdout",
     "output_type": "stream",
     "text": [
      "[1, 2, 3, 5, 6, 7, 8]\n"
     ]
    }
   ],
   "source": [
    "# 20. Remove duplicates from a list.\n",
    "\n",
    "\n",
    "list=[1,2,3,2,5,6,7,8,5,3,2]\n",
    "list2=[]\n",
    "\n",
    "for i in list:\n",
    "    if i not in list2:\n",
    "        list2.append(i)\n",
    "    \n",
    "print(list2)"
   ]
  },
  {
   "cell_type": "code",
   "execution_count": 34,
   "id": "41f84e57-0262-47b5-ad53-d33437df45db",
   "metadata": {},
   "outputs": [
    {
     "name": "stdout",
     "output_type": "stream",
     "text": [
      "[5, 6]\n"
     ]
    }
   ],
   "source": [
    "# 21. Find the common elements between two lists.\n",
    "\n",
    "\n",
    "\n",
    "list=[1,2,3,2,5,6,7,8,5,3,2]\n",
    "list2=[4,5,6]\n",
    "list3 = []\n",
    "\n",
    "for i in list:\n",
    "    for j in list2:\n",
    "        if i == j:\n",
    "             if i not in list3:\n",
    "                  list3.append(i)\n",
    "             break\n",
    "        \n",
    "print(list3)\n"
   ]
  },
  {
   "cell_type": "code",
   "execution_count": 36,
   "id": "5dfa355d-f1e1-4d1b-b7bb-95f1dcc03738",
   "metadata": {},
   "outputs": [
    {
     "name": "stdout",
     "output_type": "stream",
     "text": [
      "[1, 2, 3, 5, 6, 7, 8]\n"
     ]
    }
   ],
   "source": [
    "# 22. Find the difference between two lists.\n",
    "\n",
    "\n",
    "\n",
    "\n",
    "list=[1,2,3,2,5,6,7,8,5,3,2]\n",
    "list2=[4,5,6]\n",
    "list3 = []\n",
    "\n",
    "for i in list:\n",
    "    for j in list2:\n",
    "        if i != j:\n",
    "             if i not in list3:\n",
    "                  list3.append(i)\n",
    "             break\n",
    "        \n",
    "print(list3)\n"
   ]
  },
  {
   "cell_type": "code",
   "execution_count": 38,
   "id": "bfd476c3-2e8f-4b65-a829-4e2b1fb64248",
   "metadata": {},
   "outputs": [
    {
     "name": "stdout",
     "output_type": "stream",
     "text": [
      "[1, 2, 3, 2, 5, 6, 7, 8, 5, 3, 2, 4, 5, 6]\n"
     ]
    }
   ],
   "source": [
    "# 23. Merge two lists.\n",
    "\n",
    "list=[1,2,3,2,5,6,7,8,5,3,2]\n",
    "list2=[4,5,6]\n",
    "list.extend(list2)\n",
    "print(list)"
   ]
  },
  {
   "cell_type": "code",
   "execution_count": 40,
   "id": "87e4f2c2-768f-4624-97d8-732415ad24c4",
   "metadata": {},
   "outputs": [
    {
     "name": "stdout",
     "output_type": "stream",
     "text": [
      "[2, 4, 6, 4, 10, 12, 14, 16, 10, 6, 4]\n"
     ]
    }
   ],
   "source": [
    "#24. Multiply all elements in a list by 2.\n",
    "\n",
    "\n",
    "list=[1,2,3,2,5,6,7,8,5,3,2]\n",
    "for i in range(len(list)):\n",
    "    list[i] = list[i]*2\n",
    "    \n",
    "print(list)"
   ]
  },
  {
   "cell_type": "code",
   "execution_count": 42,
   "id": "953e53eb-f21e-4511-9891-66f544178d3c",
   "metadata": {},
   "outputs": [
    {
     "name": "stdout",
     "output_type": "stream",
     "text": [
      "[2, 2, 6, 8, 2]\n"
     ]
    }
   ],
   "source": [
    "#24. Multiply all elements in a list by 2.\n",
    "\n",
    "\n",
    "list=[1,2,3,2,5,6,7,8,5,3,2]\n",
    "list2=[\n",
    "]\n",
    "for i in range(len(list)):\n",
    "    if list[i] %2 ==0 :\n",
    "        list2.append(list[i])\n",
    "        \n",
    "print(list2)"
   ]
  },
  {
   "cell_type": "code",
   "execution_count": 44,
   "id": "b0b53b59-151e-4b4a-9abc-51d15cac689d",
   "metadata": {},
   "outputs": [
    {
     "name": "stdout",
     "output_type": "stream",
     "text": [
      "[1, 2, 3, 4]\n"
     ]
    }
   ],
   "source": [
    "# 26. Convert a list of strings to a list of integers.\n",
    "\n",
    "list=[\"1\",\"2\",\"3\",\"4\"]\n",
    "list2=[]\n",
    "\n",
    "for i in range(len(list)):\n",
    "   list2.append(int(list[i])) #simply typecast the content at list[i]\n",
    "    \n",
    "print(list2)\n"
   ]
  },
  {
   "cell_type": "code",
   "execution_count": 46,
   "id": "1906a97e-e50f-46e2-b1b4-c9277ba25807",
   "metadata": {},
   "outputs": [
    {
     "name": "stdout",
     "output_type": "stream",
     "text": [
      "['1', '2', '3', '4', '5']\n"
     ]
    }
   ],
   "source": [
    "#27. Convert a list of integers to a list of strings.\n",
    "\n",
    "\n",
    "list=[1,2,3,4,5]\n",
    "list2=[]\n",
    "\n",
    "for i in range(len(list)):\n",
    "   list2.append(str(list[i])) #str convert the numeric value to string\n",
    "    \n",
    "print(list2)"
   ]
  },
  {
   "cell_type": "code",
   "execution_count": 50,
   "id": "67389274-85fc-4f8b-ae80-65a534c131eb",
   "metadata": {},
   "outputs": [],
   "source": [
    "#29"
   ]
  },
  {
   "cell_type": "code",
   "execution_count": 52,
   "id": "18f86616-51dc-423f-8e02-5364498b676c",
   "metadata": {},
   "outputs": [
    {
     "name": "stdout",
     "output_type": "stream",
     "text": [
      "[0, 1, 1, 2, 3, 5, 8, 13, 21, 34]\n"
     ]
    }
   ],
   "source": [
    "# 29. Create a list of the first 10 Fibonacci numbers.\n",
    "\n",
    "a=0\n",
    "b=1\n",
    "list=[0,1]\n",
    "\n",
    "for i in range(2,10):\n",
    "    list.append(list[i-1]+list[i-2])\n",
    "\n",
    "print(list)"
   ]
  },
  {
   "cell_type": "code",
   "execution_count": 54,
   "id": "95e2e144-c966-4a94-8347-5330bdcd02a7",
   "metadata": {},
   "outputs": [
    {
     "name": "stdout",
     "output_type": "stream",
     "text": [
      "false\n"
     ]
    }
   ],
   "source": [
    "# 30. Check if a list is sorted.\n",
    "\n",
    "\n",
    "list=[2, 4, 6, 4, 10, 12, 14, 16, 10, 6, 4]\n",
    "ans= True\n",
    "for i in range(1,len(list)):\n",
    "    ans=False\n",
    "    break\n",
    "\n",
    "if ans ==True:\n",
    "    print(\"true\")\n",
    "else:\n",
    "    print(\"false\")"
   ]
  },
  {
   "cell_type": "code",
   "execution_count": 56,
   "id": "09ff1909-3214-4619-b0d6-121737a8e0d9",
   "metadata": {},
   "outputs": [
    {
     "name": "stdout",
     "output_type": "stream",
     "text": [
      "[2, 3, 5, 7, 11, 13, 17, 19, 23, 29, 31, 37, 41, 43, 47]\n"
     ]
    }
   ],
   "source": [
    "#33. Create a list of prime numbers up to 50.\n",
    "\n",
    "list=[]\n",
    "\n",
    "for i in range(2,50):\n",
    "    check=True\n",
    "    for n in range(2,i):\n",
    "        if i %n == 0:\n",
    "            check=False\n",
    "            break\n",
    "    \n",
    "    if check:\n",
    "        list.append(i)\n",
    "        \n",
    "print(list)"
   ]
  },
  {
   "cell_type": "code",
   "execution_count": 58,
   "id": "9f239879-2bb1-40a9-b473-e734c8c39961",
   "metadata": {},
   "outputs": [
    {
     "name": "stdout",
     "output_type": "stream",
     "text": [
      "10\n"
     ]
    }
   ],
   "source": [
    "# 35. Find the second largest number in a list.\n",
    "list=[2,5,7,10,4,6,7,36]\n",
    "list.sort()\n",
    "print(list[len(list)-2])"
   ]
  },
  {
   "cell_type": "code",
   "execution_count": 60,
   "id": "2ba9b899-8661-4951-9710-c74417c4aa16",
   "metadata": {},
   "outputs": [
    {
     "name": "stdout",
     "output_type": "stream",
     "text": [
      "[4, 25, 49, 100, 16, 36, 49, 1296]\n"
     ]
    }
   ],
   "source": [
    "# 36. Replace every element in a list with its square.\n",
    "\n",
    "list=[2,5,7,10,4,6,7,36]\n",
    "ans=0\n",
    "for i in range(len(list)):\n",
    "      ans= list[i]*list[i]\n",
    "      list[i]=ans\n",
    "print(list)"
   ]
  },
  {
   "cell_type": "code",
   "execution_count": 62,
   "id": "83609ffd-b305-4ced-ad92-a6cf4f3be8bb",
   "metadata": {},
   "outputs": [
    {
     "name": "stdout",
     "output_type": "stream",
     "text": [
      "{0: 2, 1: 5, 2: 7, 3: 10, 4: 4, 5: 6, 6: 7, 7: 36}\n"
     ]
    }
   ],
   "source": [
    "# 37. Convert a list to a dictionary where list elements become keys and their indices become values.\n",
    "\n",
    "\n",
    "list=[2,5,7,10,4,6,7,36]\n",
    "dict={}\n",
    "for i in range(len(list)):\n",
    "    dict[i]=dict.get(i,list[i])\n",
    "    \n",
    "print(dict)\n",
    "   "
   ]
  },
  {
   "cell_type": "code",
   "execution_count": 2,
   "id": "1167580d-a243-49f8-8b95-95be0120ef81",
   "metadata": {},
   "outputs": [
    {
     "name": "stdout",
     "output_type": "stream",
     "text": [
      "[4, 6, 5, 2, 3, 7, 1]\n"
     ]
    }
   ],
   "source": [
    "#38. Shuffle the elements of a list randomly.\n",
    "\n",
    "import random\n",
    "li=[1,2,3,4,5,6,7]\n",
    "l2=[]\n",
    "for i in range(len(li)):\n",
    "    i=random.choice(li)\n",
    "    li.remove(i)\n",
    "    l2.append(i)\n",
    "li =l2\n",
    "print(li)"
   ]
  },
  {
   "cell_type": "code",
   "execution_count": 4,
   "id": "71140c5f-3288-4c07-8aa9-f61e3e326d0d",
   "metadata": {},
   "outputs": [
    {
     "name": "stdout",
     "output_type": "stream",
     "text": [
      "[]\n"
     ]
    }
   ],
   "source": [
    "#41. Remove all elements from a list.\n",
    "\n",
    "li=[1,2,3,4,5]\n",
    "li.clear()\n",
    "print(li)\n"
   ]
  },
  {
   "cell_type": "code",
   "execution_count": 6,
   "id": "0d7c0be1-22c1-4d3f-8a1a-8a39204c5b98",
   "metadata": {},
   "outputs": [
    {
     "name": "stdout",
     "output_type": "stream",
     "text": [
      "[0, 2, 3, 4, 0]\n"
     ]
    }
   ],
   "source": [
    "#42. Replace negative numbers in a list with 0..\n",
    "\n",
    "li=[-1,2,3,4,-5]\n",
    "for i in range(len(li)):\n",
    "    if li[i]<0:\n",
    "        li[i]=0\n",
    "print(li)"
   ]
  },
  {
   "cell_type": "code",
   "execution_count": 8,
   "id": "fb1e3029-81fa-4f4e-a394-a27c7d45ea0d",
   "metadata": {},
   "outputs": [
    {
     "name": "stdout",
     "output_type": "stream",
     "text": [
      "['hey', 'i', 'am', 'good', 'here', 'hope', 'you', 'are', 'good', 'there', 'too']\n"
     ]
    }
   ],
   "source": [
    "#43. Convert a string into a list of words.\n",
    "\n",
    "s=\"hey i am good here hope you are good there too\"\n",
    "li=list(s.split())\n",
    "print(li)"
   ]
  },
  {
   "cell_type": "code",
   "execution_count": 10,
   "id": "bd267edc-7b3e-4b4e-a405-c5bf70f77de7",
   "metadata": {},
   "outputs": [
    {
     "name": "stdout",
     "output_type": "stream",
     "text": [
      " hey i am good here hope you are good there too\n"
     ]
    }
   ],
   "source": [
    "#44. Convert a list of words into a string.\n",
    "\n",
    "li=['hey', 'i', 'am', 'good', 'here', 'hope', 'you', 'are', 'good', 'there', 'too']\n",
    "s=\"\"\n",
    "for i in li:\n",
    "    s=s+\" \"+i\n",
    "print(s)"
   ]
  },
  {
   "cell_type": "code",
   "execution_count": 12,
   "id": "ed66b4a9-e7e8-48bf-9c06-0353e645befa",
   "metadata": {},
   "outputs": [
    {
     "name": "stdin",
     "output_type": "stream",
     "text": [
      "enter the size of the list 5\n"
     ]
    },
    {
     "name": "stdout",
     "output_type": "stream",
     "text": [
      "[2, 4, 8, 16, 32]\n"
     ]
    }
   ],
   "source": [
    "#45. Create a list of the first `n` powers of 2.\n",
    "\n",
    "\n",
    "li=[]\n",
    "i=int(input(\"enter the size of the list\"))\n",
    "\n",
    "for i in range(1,i+1):\n",
    "    li.append(2**i)\n",
    "print(li)"
   ]
  },
  {
   "cell_type": "code",
   "execution_count": 14,
   "id": "d4723b21-01bd-4e5e-bf30-592971494722",
   "metadata": {},
   "outputs": [
    {
     "name": "stdout",
     "output_type": "stream",
     "text": [
      "helloooo\n"
     ]
    }
   ],
   "source": [
    "#46. Find the longest string in a list of strings.\n",
    "\n",
    "li=[\"hello\",\"helloooo\",\"hii\",\"hiiji\"]\n",
    "i=0\n",
    "striji= \" \"\n",
    "maxiji=0\n",
    "while i < len(li):\n",
    "    count=0\n",
    "    a=li[i]\n",
    "    for j in a:\n",
    "        count =count+1\n",
    "    if count>maxiji: \n",
    "        maxiji= count\n",
    "        striji=a\n",
    "    i=i+1\n",
    "        \n",
    "print(striji)"
   ]
  },
  {
   "cell_type": "code",
   "execution_count": 16,
   "id": "6cab12be-ef12-4a3d-93ab-1614a0accf2e",
   "metadata": {},
   "outputs": [
    {
     "name": "stdout",
     "output_type": "stream",
     "text": [
      "hii\n"
     ]
    }
   ],
   "source": [
    "# 47. Find the shortest string in a list of strings.\n",
    "\n",
    "\n",
    "li=[\"hello\",\"helloooo\",\"hii\",\"hiiji\"]\n",
    "i=0\n",
    "striji= \" \"\n",
    "maxiji=float('inf')\n",
    "while i < len(li):\n",
    "    count=0\n",
    "    a=li[i]\n",
    "    for j in a:\n",
    "        count =count+1\n",
    "    if count<maxiji:\n",
    "        maxiji= count\n",
    "        striji=a\n",
    "    i=i+1\n",
    "        \n",
    "print(striji)"
   ]
  },
  {
   "cell_type": "code",
   "execution_count": 20,
   "id": "a840eaa9-efd3-49a1-8d2d-fabe3ca85c13",
   "metadata": {},
   "outputs": [
    {
     "name": "stdout",
     "output_type": "stream",
     "text": [
      "yes subsequence\n"
     ]
    }
   ],
   "source": [
    "# 49. Check if a list contains another list as a subsequence.\n",
    "\n",
    "\n",
    "\n",
    "li=[\"hello\",\"helloooo\",\"hii\",\"hiiji\"]\n",
    "l2=[\"meerut\",\"ke\",\"mashoor\",\"nankhatai\",\"hello\"]\n",
    "count=0\n",
    "for i in li: #iterate kro each element of the li in the l2\n",
    "    if i in l2: # agr iterate krta hua element mach hua dono lists mai to count ko bada do and break krdo \n",
    "        #agr single element bhi match hota hai to matlab ke subsequence hai and simply went out of the loops and print \"yes\n",
    "        count=count+1\n",
    "        break\n",
    "    \n",
    "if count >0:\n",
    "    print(\"yes subsequence\")\n",
    "else:\n",
    "    print(\"not at all\")"
   ]
  },
  {
   "cell_type": "code",
   "execution_count": null,
   "id": "f3c0922d-a57e-46bc-98fc-dd53f6913797",
   "metadata": {},
   "outputs": [],
   "source": []
  }
 ],
 "metadata": {
  "kernelspec": {
   "display_name": "Python 3 (ipykernel)",
   "language": "python",
   "name": "python3"
  },
  "language_info": {
   "codemirror_mode": {
    "name": "ipython",
    "version": 3
   },
   "file_extension": ".py",
   "mimetype": "text/x-python",
   "name": "python",
   "nbconvert_exporter": "python",
   "pygments_lexer": "ipython3",
   "version": "3.12.7"
  }
 },
 "nbformat": 4,
 "nbformat_minor": 5
}
