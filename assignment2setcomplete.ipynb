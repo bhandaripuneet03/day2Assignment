{
 "cells": [
  {
   "cell_type": "code",
   "execution_count": 2,
   "id": "7db77c43-973b-4b20-a6fd-0225c3cd509e",
   "metadata": {},
   "outputs": [
    {
     "name": "stdout",
     "output_type": "stream",
     "text": [
      "{1, 2, 3, 4, 5}\n"
     ]
    }
   ],
   "source": [
    "# 1. Create a set with integers from 1 to 5.\n",
    "\n",
    "s={1,2,3,4,5}\n",
    "print(s)"
   ]
  },
  {
   "cell_type": "code",
   "execution_count": 4,
   "id": "5ff4c5bc-7854-40e6-bab2-f29934d704bb",
   "metadata": {},
   "outputs": [
    {
     "name": "stdout",
     "output_type": "stream",
     "text": [
      "{1, 2, 3, 4, 5, 7}\n"
     ]
    }
   ],
   "source": [
    "# 2. Add an element to a set.\n",
    "\n",
    "\n",
    "s={1,2,3,4,5}\n",
    "s.add(7)\n",
    "print(s)\n"
   ]
  },
  {
   "cell_type": "code",
   "execution_count": 6,
   "id": "385c90a2-f2db-4aeb-83a8-bc552d2d538c",
   "metadata": {},
   "outputs": [
    {
     "name": "stdout",
     "output_type": "stream",
     "text": [
      "{1, 2, 3, 4}\n"
     ]
    }
   ],
   "source": [
    "# 3. Remove an element from a set.\n",
    "s={1,2,3,4,5}\n",
    "s.remove(5)\n",
    "print(s)"
   ]
  },
  {
   "cell_type": "code",
   "execution_count": 8,
   "id": "84669270-ef61-4c51-a9ab-ec6d454b4a16",
   "metadata": {},
   "outputs": [
    {
     "name": "stdout",
     "output_type": "stream",
     "text": [
      "yes\n"
     ]
    }
   ],
   "source": [
    "# 4. Check if an element exists in a set.\n",
    "\n",
    "s={1,2,3,4,5}\n",
    "for i in s :\n",
    "     if i == 5:\n",
    "         print(\"yes\")"
   ]
  },
  {
   "cell_type": "code",
   "execution_count": 10,
   "id": "15356142-ae05-4e2c-93ac-4a54e48b64a5",
   "metadata": {},
   "outputs": [
    {
     "name": "stdout",
     "output_type": "stream",
     "text": [
      "5\n"
     ]
    }
   ],
   "source": [
    "# 5. Find the length of a set without using the `len()` function.\n",
    "\n",
    "\n",
    "s={1,2,3,4,5}\n",
    "count=0\n",
    "for i in s :\n",
    "     count=count+1\n",
    "print(count)\n",
    "     "
   ]
  },
  {
   "cell_type": "code",
   "execution_count": 12,
   "id": "37b992a9-6101-4fc9-b148-aabb3f198bba",
   "metadata": {},
   "outputs": [
    {
     "name": "stdout",
     "output_type": "stream",
     "text": [
      "set()\n"
     ]
    }
   ],
   "source": [
    "#6. Clear all elements from a set.\n",
    "\n",
    "s={1,2,3,4,5}\n",
    "for i in range(len(s)):\n",
    "    s.pop()\n",
    "print(s)"
   ]
  },
  {
   "cell_type": "code",
   "execution_count": 14,
   "id": "72f20a3e-760e-4500-97e7-5dbaab44326b",
   "metadata": {},
   "outputs": [
    {
     "name": "stdout",
     "output_type": "stream",
     "text": [
      "{0, 2, 4, 6, 8}\n"
     ]
    }
   ],
   "source": [
    "#7. Create a set of even numbers from 1 to 10.\n",
    "s=set()\n",
    "for i in range(10):\n",
    "    if i%2==0:\n",
    "       s.add(i)\n",
    "print(s)"
   ]
  },
  {
   "cell_type": "code",
   "execution_count": 16,
   "id": "fc835465-6112-4354-a8e7-95576cc1acc9",
   "metadata": {},
   "outputs": [
    {
     "name": "stdout",
     "output_type": "stream",
     "text": [
      "{1, 3, 5, 7, 9}\n"
     ]
    }
   ],
   "source": [
    "#8. Create a set of odd numbers from 1 to 10.\n",
    "\n",
    "s=set()\n",
    "for i in range(10):\n",
    "    if i%2!=0:\n",
    "       s.add(i)\n",
    "print(s)"
   ]
  },
  {
   "cell_type": "code",
   "execution_count": 24,
   "id": "a9ce6cdd-e6e4-469b-aac3-8d80e4e90dce",
   "metadata": {},
   "outputs": [
    {
     "name": "stdout",
     "output_type": "stream",
     "text": [
      "{1, 2, 3, 4, 5, 7, 9}\n"
     ]
    }
   ],
   "source": [
    "#9. Find the union of two sets.\n",
    "\n",
    "\n",
    "s={1, 3, 5, 7, 9}\n",
    "s1={1, 3, 5, 7, 9,2,4}\n",
    "\n",
    "s={1, 3, 5, 7, 9}\n",
    "s1={1, 3, 5, 7, 9,2,4}\n",
    "\n",
    "t= s |s1\n",
    "print(t)\n",
    "     "
   ]
  },
  {
   "cell_type": "code",
   "execution_count": 26,
   "id": "9408c4c4-211d-4bbe-ae13-cec22e0dd639",
   "metadata": {},
   "outputs": [
    {
     "name": "stdout",
     "output_type": "stream",
     "text": [
      "{1, 3, 5, 7, 9}\n"
     ]
    }
   ],
   "source": [
    "#10. Find the intersection of two sets.\n",
    "\n",
    "s={1, 3, 5, 7, 9}\n",
    "s1={1, 3, 5, 7, 9,2,4}\n",
    "\n",
    "t= s & s1\n",
    "print(t)\n",
    "     "
   ]
  },
  {
   "cell_type": "code",
   "execution_count": 28,
   "id": "10e2184b-f88b-433f-9cb0-e318ad7fe082",
   "metadata": {},
   "outputs": [
    {
     "name": "stdout",
     "output_type": "stream",
     "text": [
      "{9, 7}\n"
     ]
    }
   ],
   "source": [
    "#11. Find the difference between two sets.\n",
    "\n",
    "\n",
    "s = {1, 3, 5, 7, 9}\n",
    "s1 = {1, 3, 5}\n",
    "\n",
    "t = s - s1\n",
    "print(t)\n",
    "     "
   ]
  },
  {
   "cell_type": "code",
   "execution_count": 30,
   "id": "0249cecc-0da0-4770-8167-ce38408657d1",
   "metadata": {},
   "outputs": [
    {
     "name": "stdout",
     "output_type": "stream",
     "text": [
      "True\n"
     ]
    }
   ],
   "source": [
    "#12. Check if a set is a subset of another set.\n",
    "\n",
    "s = {1, 3, 5, 7, 9}\n",
    "s1 = {1, 3, 5}\n",
    "\n",
    "print(s1.issubset(s))"
   ]
  },
  {
   "cell_type": "code",
   "execution_count": 32,
   "id": "0cdc8d32-b195-4ba9-a45b-f38e2a1dd66a",
   "metadata": {},
   "outputs": [
    {
     "name": "stdout",
     "output_type": "stream",
     "text": [
      "True\n"
     ]
    }
   ],
   "source": [
    "#13. Check if a set is a superset of another set.\n",
    "\n",
    "\n",
    "s = {1, 3, 5, 7, 9}\n",
    "s1 = {1, 3, 5}\n",
    "\n",
    "print(s.issuperset(s1))"
   ]
  },
  {
   "cell_type": "code",
   "execution_count": 34,
   "id": "a37a79ee-1838-4676-8ebb-5d306a6dabdd",
   "metadata": {},
   "outputs": [
    {
     "name": "stdout",
     "output_type": "stream",
     "text": [
      "{1, 3, 5, 7, 9}\n"
     ]
    }
   ],
   "source": [
    "#14. Create a set from a list.\n",
    "\n",
    "s = {}\n",
    "s1 = [1, 3, 5, 7, 9]\n",
    "s= set(s1)\n",
    "\n",
    "print(s)"
   ]
  },
  {
   "cell_type": "code",
   "execution_count": 36,
   "id": "21c7459c-ea68-4c48-9dad-e4bd69631144",
   "metadata": {},
   "outputs": [
    {
     "name": "stdout",
     "output_type": "stream",
     "text": [
      "[1, 3, 5, 7, 9]\n"
     ]
    }
   ],
   "source": [
    "#15. Convert a set to a list.\n",
    "\n",
    "\n",
    "s = {}\n",
    "s1 = [1, 3, 5, 7, 9]\n",
    "s= set(s1)\n",
    "r=list(s)\n",
    "print(r)\n",
    "     "
   ]
  },
  {
   "cell_type": "code",
   "execution_count": 38,
   "id": "442b611c-151e-4868-9a73-3c4284d7d3ee",
   "metadata": {},
   "outputs": [
    {
     "name": "stdout",
     "output_type": "stream",
     "text": [
      "{1, 3, 5, 9}\n"
     ]
    }
   ],
   "source": [
    "# 16. Remove a random element from a set.\n",
    "\n",
    "\n",
    "\n",
    "import random\n",
    "s1 = {1, 3, 5, 7, 9}\n",
    "s1.remove(random.choice(list(s1))) #choice work when there is indexing so typecaste\n",
    "print(s1)\n",
    "     "
   ]
  },
  {
   "cell_type": "code",
   "execution_count": 40,
   "id": "71ff1122-742d-4217-bd2f-0453fdc57597",
   "metadata": {},
   "outputs": [
    {
     "name": "stdout",
     "output_type": "stream",
     "text": [
      "{3, 5, 7, 9}\n"
     ]
    }
   ],
   "source": [
    "# 17. Pop an element from a set.\n",
    "\n",
    "\n",
    "\n",
    "\n",
    "\n",
    "s1 = {1, 3, 5, 7, 9}\n",
    "s1.pop()\n",
    "print(s1)\n",
    "     "
   ]
  },
  {
   "cell_type": "code",
   "execution_count": 42,
   "id": "d0114e82-5cd3-4ace-bbda-eebf510d8ce4",
   "metadata": {},
   "outputs": [
    {
     "name": "stdout",
     "output_type": "stream",
     "text": [
      "no common\n"
     ]
    }
   ],
   "source": [
    "# 18. Check if two sets have no elements in common.\n",
    "\n",
    "\n",
    "s1 = {1, 3, 5, 7, 9}\n",
    "s2={11,12}\n",
    "\n",
    "for i in s1:\n",
    "    if i in s2:\n",
    "        print(\"common found\")\n",
    "        break\n",
    "else:\n",
    "    print(\"no common\")"
   ]
  },
  {
   "cell_type": "code",
   "execution_count": 2,
   "id": "7956ca84-5c2d-47be-8a16-aa08d1abe6a1",
   "metadata": {},
   "outputs": [
    {
     "name": "stdout",
     "output_type": "stream",
     "text": [
      "{6, 7, 8, 9, 10}\n"
     ]
    }
   ],
   "source": [
    "# 20. Update a set with elements from another set.\n",
    "s={1,2,3,4,5}\n",
    "s1={6,7,8,9,10}\n",
    "s.clear()\n",
    "s=s1\n",
    "print(s)"
   ]
  },
  {
   "cell_type": "code",
   "execution_count": 4,
   "id": "c59e2191-c793-4c49-aa8b-d93ef0f7b68b",
   "metadata": {},
   "outputs": [
    {
     "name": "stdout",
     "output_type": "stream",
     "text": [
      "{3, 4}\n"
     ]
    }
   ],
   "source": [
    "# 20. Update a set with elements from another set.\n",
    "s=set()\n",
    "\n",
    "for i in range(2,5):\n",
    "    for j in range(2,i):\n",
    "        if i%j !=0:\n",
    "            s.add(i)\n",
    "            \n",
    "print(s)"
   ]
  },
  {
   "cell_type": "code",
   "execution_count": 6,
   "id": "6607caba-f582-4fd7-8851-1df7d3147550",
   "metadata": {},
   "outputs": [
    {
     "name": "stdout",
     "output_type": "stream",
     "text": [
      "no\n"
     ]
    }
   ],
   "source": [
    "# 22. Check if two sets are identical.\n",
    "s={1,2,3,4}\n",
    "s1={1,2,3,4,5}\n",
    "if s==s1:\n",
    "    print(\"identical\")\n",
    "else:\n",
    "    print(\"no\")\n"
   ]
  },
  {
   "cell_type": "code",
   "execution_count": 8,
   "id": "858a7b06-c33b-4352-ba7e-4345e0885bab",
   "metadata": {},
   "outputs": [
    {
     "ename": "AttributeError",
     "evalue": "'tuple' object has no attribute 'add'",
     "output_type": "error",
     "traceback": [
      "\u001b[1;31m---------------------------------------------------------------------------\u001b[0m",
      "\u001b[1;31mAttributeError\u001b[0m                            Traceback (most recent call last)",
      "Cell \u001b[1;32mIn[8], line 6\u001b[0m\n\u001b[0;32m      3\u001b[0m s\u001b[38;5;241m=\u001b[39m{\u001b[38;5;241m1\u001b[39m,\u001b[38;5;241m2\u001b[39m,\u001b[38;5;241m3\u001b[39m,\u001b[38;5;241m4\u001b[39m}\n\u001b[0;32m      4\u001b[0m t1\u001b[38;5;241m=\u001b[39m\u001b[38;5;28mtuple\u001b[39m(s)\n\u001b[1;32m----> 6\u001b[0m t1\u001b[38;5;241m.\u001b[39madd(\u001b[38;5;241m9\u001b[39m) \u001b[38;5;66;03m#not work because the set become tuple which is immutable\u001b[39;00m\n\u001b[0;32m      7\u001b[0m \u001b[38;5;28mprint\u001b[39m(t1)\n",
      "\u001b[1;31mAttributeError\u001b[0m: 'tuple' object has no attribute 'add'"
     ]
    }
   ],
   "source": [
    "# 23. Create a frozen set.\n",
    "\n",
    "s={1,2,3,4}\n",
    "t1=tuple(s)\n",
    "\n",
    "t1.add(9) #not work because the set become tuple which is immutable\n",
    "print(t1)\n"
   ]
  },
  {
   "cell_type": "code",
   "execution_count": 12,
   "id": "05d5461b-e605-4f8f-8b21-88e141dcf3e0",
   "metadata": {},
   "outputs": [
    {
     "name": "stdout",
     "output_type": "stream",
     "text": [
      "False\n"
     ]
    }
   ],
   "source": [
    "# 24. Check if a set is disjoint with another set.\n",
    "\n",
    "\n",
    "s={1,2,3,4}\n",
    "s1={4,6,7}\n",
    "print(s.isdisjoint(s1))"
   ]
  },
  {
   "cell_type": "code",
   "execution_count": 14,
   "id": "64c2f383-3f05-48b9-bb31-c4115ad6688f",
   "metadata": {},
   "outputs": [
    {
     "name": "stdout",
     "output_type": "stream",
     "text": [
      "{1, 4, 9, 16, 25}\n"
     ]
    }
   ],
   "source": [
    "# 25. Create a set of squares of numbers from 1 to 5.\n",
    "\n",
    "s={1,2,3,4,5}\n",
    "t1=list(s)\n",
    "t2=[]\n",
    "for i in t1:\n",
    "    t2.append(i*i)\n",
    "    \n",
    "s=set(t2)\n",
    "print(s)"
   ]
  },
  {
   "cell_type": "code",
   "execution_count": 16,
   "id": "0fa92e8c-435d-4310-b565-3bc7839a7fe5",
   "metadata": {},
   "outputs": [
    {
     "name": "stdout",
     "output_type": "stream",
     "text": [
      "{2, 4}\n"
     ]
    }
   ],
   "source": [
    "# 26. Filter out all even numbers from a set.\n",
    "\n",
    "\n",
    "s={1,2,3,4,5}\n",
    "t1=list(s)\n",
    "t2=[]\n",
    "for i in t1:\n",
    "    if i %2 ==0:\n",
    "        t2.append(i)\n",
    "    \n",
    "s=set(t2)\n",
    "print(s)"
   ]
  },
  {
   "cell_type": "code",
   "execution_count": 18,
   "id": "bfcec8cb-7ca7-420e-a1a9-6ce2d5d5a3c3",
   "metadata": {},
   "outputs": [
    {
     "name": "stdout",
     "output_type": "stream",
     "text": [
      "{2, 4, 6, 8, 10}\n"
     ]
    }
   ],
   "source": [
    "# 27. Multiply all elements in a set by 2.\n",
    "\n",
    "\n",
    "\n",
    "s={1,2,3,4,5}\n",
    "t1=list(s)\n",
    "t2=[]\n",
    "for i in t1:\n",
    "    t2.append(i*2)\n",
    "    \n",
    "s=set(t2)\n",
    "print(s)\n",
    "    "
   ]
  },
  {
   "cell_type": "code",
   "execution_count": 20,
   "id": "b8ee11ab-6435-44b8-af14-c890742f9b66",
   "metadata": {},
   "outputs": [
    {
     "name": "stdout",
     "output_type": "stream",
     "text": [
      "{257, 130, 131, 772, 517, 518, 650, 138, 525, 398, 532, 21, 917, 663, 36, 37, 38, 166, 425, 811, 49, 818, 690, 187, 444, 962, 964, 197, 588, 340, 980, 470, 855, 88, 119, 988, 353, 99, 101, 103, 873, 491, 748, 238, 497, 113, 247, 888, 638}\n"
     ]
    }
   ],
   "source": [
    "# 28. Create a set of random numbers.\n",
    "\n",
    "import random\n",
    "s=set()\n",
    "for i in range(50):\n",
    "    s.add(random.randint(1,1000))\n",
    "    \n",
    "print(s)"
   ]
  },
  {
   "cell_type": "code",
   "execution_count": 24,
   "id": "ef6f129e-070b-4f73-b2a0-41e240769cfb",
   "metadata": {},
   "outputs": [
    {
     "name": "stdout",
     "output_type": "stream",
     "text": [
      "Empty\n"
     ]
    }
   ],
   "source": [
    "# 29. Check if a set is empty.\n",
    "\n",
    "\n",
    "\n",
    "s=set()\n",
    "count =0\n",
    "\n",
    "for i in s:\n",
    "    count=count+1\n",
    "\n",
    "if(count == 0):\n",
    "    print(\"Empty\")\n",
    "else:\n",
    "    print(\"not\")"
   ]
  },
  {
   "cell_type": "code",
   "execution_count": 26,
   "id": "4aaa74d5-1101-4b9d-8201-984ed8f37ccf",
   "metadata": {},
   "outputs": [
    {
     "name": "stdout",
     "output_type": "stream",
     "text": [
      "{1, 3, 4}\n"
     ]
    }
   ],
   "source": [
    "# 31. Remove an element from a set using the discard method.\n",
    "\n",
    "se={1,2,3,4}\n",
    "se.discard(2)\n",
    "print(se)\n"
   ]
  },
  {
   "cell_type": "code",
   "execution_count": 28,
   "id": "689182eb-c3c3-43bd-9d00-7e2456af24e7",
   "metadata": {},
   "outputs": [
    {
     "name": "stdout",
     "output_type": "stream",
     "text": [
      "not equal\n"
     ]
    }
   ],
   "source": [
    "# 31. Remove an element from a set using the discard method.\n",
    "\n",
    "se={1,2,3,4}\n",
    "sa={4,5,6,7}\n",
    "\n",
    "if se == sa:\n",
    "    print(\"equal\")\n",
    "else:\n",
    "    print(\"not equal\")\n"
   ]
  },
  {
   "cell_type": "code",
   "execution_count": 30,
   "id": "9b60e088-045f-4386-9f7a-14d761c3592d",
   "metadata": {},
   "outputs": [
    {
     "name": "stdout",
     "output_type": "stream",
     "text": [
      "{'g', 'r', 'i', 't', 's', 'n'}\n"
     ]
    }
   ],
   "source": [
    "# 33. Create a set from a string.\n",
    "\n",
    "i = \"string\"\n",
    "s=set(i)\n",
    "print(s)"
   ]
  },
  {
   "cell_type": "code",
   "execution_count": 32,
   "id": "07c81106-4f05-4fc0-8ca8-528df1693644",
   "metadata": {},
   "outputs": [
    {
     "name": "stdout",
     "output_type": "stream",
     "text": [
      "{1, 2, 3, 4, 5, 6}\n"
     ]
    }
   ],
   "source": [
    "# 34. Convert a set of strings to a set of integers.\n",
    "\n",
    "\n",
    "s ={'1', '2', '3', '4', '5', '6'}\n",
    "s1=set()\n",
    "\n",
    "for i in s:\n",
    "    s1.add(int(i))\n",
    "print(s1)"
   ]
  },
  {
   "cell_type": "code",
   "execution_count": 36,
   "id": "d042149a-11f9-4435-a6af-1158127f41c6",
   "metadata": {},
   "outputs": [
    {
     "name": "stdout",
     "output_type": "stream",
     "text": [
      "{'1', '6', '2', '5', '3', '4'}\n"
     ]
    }
   ],
   "source": [
    "# 35. Convert a set of integers to a set of strings.\n",
    "\n",
    "\n",
    "\n",
    "s ={1, 2, 3, 4, 5, 6}\n",
    "s1=set()\n",
    "\n",
    "for i in s:\n",
    "    s1.add(str(i))\n",
    "print(s1)"
   ]
  },
  {
   "cell_type": "code",
   "execution_count": 38,
   "id": "2770d318-b711-430b-9c8e-ffb570dd92e3",
   "metadata": {},
   "outputs": [
    {
     "name": "stdout",
     "output_type": "stream",
     "text": [
      "{1, 2, 3, 4, 5, 6}\n"
     ]
    }
   ],
   "source": [
    "# 36. Create a set from a tuple.\n",
    "\n",
    "\n",
    "t= (1,2,3,4,5,6)\n",
    "s=set(t)\n",
    "print(s)"
   ]
  },
  {
   "cell_type": "code",
   "execution_count": 40,
   "id": "a1f92508-23c9-4c9a-adf8-ba066485277f",
   "metadata": {},
   "outputs": [
    {
     "name": "stdout",
     "output_type": "stream",
     "text": [
      "(1, 2, 3, 4, 5, 6)\n"
     ]
    }
   ],
   "source": [
    "# 37. Convert a set to a tuple.\n",
    "\n",
    "t= {1, 2, 3, 4, 5, 6}\n",
    "s=tuple(t)\n",
    "print(s)"
   ]
  },
  {
   "cell_type": "code",
   "execution_count": 42,
   "id": "9a1e4276-3e9a-4c9a-8f8d-5e309247ac4c",
   "metadata": {},
   "outputs": [
    {
     "name": "stdout",
     "output_type": "stream",
     "text": [
      "18\n"
     ]
    }
   ],
   "source": [
    "# 38. Find the maximum value in a set.\n",
    "\n",
    "t= {1, 2, 3, 4,10,12,17,18, 5, 6}\n",
    "maxiji=0\n",
    "\n",
    "for i in t:\n",
    "    maxiji = max(i,maxiji) # max will update everytime when it see the max value then itself and i \n",
    "print(maxiji)\n"
   ]
  },
  {
   "cell_type": "code",
   "execution_count": 44,
   "id": "938e985e-e346-46cb-a493-9dc116744139",
   "metadata": {},
   "outputs": [
    {
     "name": "stdout",
     "output_type": "stream",
     "text": [
      "1\n"
     ]
    }
   ],
   "source": [
    "# 39. Find the minimum value in a set.\n",
    "\n",
    "\n",
    "t= {1, 2, 3, 4,10,12,17,18, 5, 6}\n",
    "maxiji=float('inf') # assign the infinity to variable so that it can choose the minimum value\n",
    "\n",
    "for i in t:\n",
    "    maxiji = min(i,maxiji) \n",
    "print(maxiji)\n"
   ]
  },
  {
   "cell_type": "code",
   "execution_count": 46,
   "id": "33662ab1-36c2-4213-98e6-16b04af85e4a",
   "metadata": {},
   "outputs": [
    {
     "name": "stdin",
     "output_type": "stream",
     "text": [
      "how many values you want to enter 5\n",
      "enter the value: \n",
      "enter the value: 1\n",
      "enter the value: 2\n",
      "enter the value: 3\n",
      "enter the value: 4\n"
     ]
    },
    {
     "name": "stdout",
     "output_type": "stream",
     "text": [
      "{'', '1', '2', '3', '4'}\n"
     ]
    }
   ],
   "source": [
    "# 40. Create a set from user input.\n",
    "\n",
    "s=set()\n",
    "b=int(input(\"how many values you want to enter\"))\n",
    "\n",
    "for i in range(b):\n",
    "    element=input(\"enter the value:\")\n",
    "    s.add(element)\n",
    "print(s)\n"
   ]
  },
  {
   "cell_type": "code",
   "execution_count": 48,
   "id": "15f4655c-e2b0-4fde-bfb6-f2a69d11037a",
   "metadata": {},
   "outputs": [
    {
     "name": "stdout",
     "output_type": "stream",
     "text": [
      "{0, 1, 2, 3}\n"
     ]
    }
   ],
   "source": [
    "# 42. Create a set of the first 5 Fibonacci numbers.\n",
    "\n",
    "\n",
    "s=set()\n",
    "li=[0,1]\n",
    "\n",
    "\n",
    "\n",
    "for i in range(2,5):\n",
    "    li.append(li[i-1]+li[i-2])\n",
    "\n",
    "s=set(li)   # as set do not contain the repeated element so the 1 element is not there  \n",
    "print(s)\n"
   ]
  },
  {
   "cell_type": "code",
   "execution_count": 50,
   "id": "4f293df2-b908-406c-82e7-b88e3ef3d1cd",
   "metadata": {},
   "outputs": [
    {
     "name": "stdout",
     "output_type": "stream",
     "text": [
      "{0, 1, 2, 3}\n"
     ]
    }
   ],
   "source": [
    "#43. Remove duplicates from a list using sets.\n",
    "# 42. Create a set of the first 5 Fibonacci numbers.\n",
    "\n",
    "\n",
    "s=set()\n",
    "li=[0,1]\n",
    "#this is the code where we put the fibonacci number in the list and then as the first five fibonacci integer were\n",
    "#0 1 1 2 3 \n",
    "#as the set is unique so the list will contain only   0  1 2 3\n",
    "\n",
    "\n",
    "for i in range(2,5):\n",
    "    li.append(li[i-1]+li[i-2])\n",
    "\n",
    "s=set(li)   \n",
    "print(s)"
   ]
  },
  {
   "cell_type": "code",
   "execution_count": 52,
   "id": "d28b2b1e-5330-4b56-8499-809cd0c710f3",
   "metadata": {},
   "outputs": [
    {
     "name": "stdout",
     "output_type": "stream",
     "text": [
      "not contain\n"
     ]
    }
   ],
   "source": [
    "# 44. Check if two sets have the same elements, regardless of their count.\n",
    "\n",
    "\n",
    "s={1,2,3,4,5,6}\n",
    "s1={1,2,3,4,5}\n",
    "for i in s:        # as the s contain 6 and the s1 do not contain so the answer is not contain\n",
    "    if i not in s1:\n",
    "        print(\"not contain\")\n",
    "        break\n",
    "else:\n",
    "    print(\"contain\")\n"
   ]
  },
  {
   "cell_type": "code",
   "execution_count": 54,
   "id": "948eec64-3b53-4209-aa53-f4e19f49536b",
   "metadata": {},
   "outputs": [
    {
     "name": "stdout",
     "output_type": "stream",
     "text": [
      "{32, 1, 2, 64, 4, 128, 256, 512, 8, 16}\n"
     ]
    }
   ],
   "source": [
    "# 45. Create a set of the first `n` powers of 2\n",
    "\n",
    "s=set()\n",
    "\n",
    "for i in range(10):\n",
    "    s.add(2**i)\n",
    "    \n",
    "print(s)\n"
   ]
  },
  {
   "cell_type": "code",
   "execution_count": 56,
   "id": "6da46336-19d8-421c-967f-91b9d95df444",
   "metadata": {},
   "outputs": [
    {
     "name": "stdout",
     "output_type": "stream",
     "text": [
      "{4, 5}\n"
     ]
    }
   ],
   "source": [
    "# 46. Find the common elements between a set and a list.\n",
    "\n",
    "s = {1, 2, 3, 4, 5}\n",
    "lst = [4, 5, 6, 7, 8]\n",
    "\n",
    "common = s.intersection(lst) #intersection work with any iterable \n",
    "print(common)"
   ]
  },
  {
   "cell_type": "code",
   "execution_count": 58,
   "id": "82332335-07ce-4cdd-9b9b-2ec9f37950cf",
   "metadata": {},
   "outputs": [
    {
     "name": "stdin",
     "output_type": "stream",
     "text": [
      "enter the size of the set 5\n"
     ]
    },
    {
     "name": "stdout",
     "output_type": "stream",
     "text": [
      "{1, 3, 6, 10, 15}\n"
     ]
    }
   ],
   "source": [
    "# 46. Find the common elements between a set and a list.\n",
    "\n",
    "s = set()\n",
    "number = int(input(\"enter the size of the set\"))\n",
    "\n",
    "for i in range(1,number+1):\n",
    "  for k in range(i,i+1):\n",
    "      s.add(k*(k+1) //2)\n",
    "    \n",
    "print(s)"
   ]
  },
  {
   "cell_type": "code",
   "execution_count": 60,
   "id": "d84010a6-029b-4ea0-bf3d-860b99943868",
   "metadata": {},
   "outputs": [
    {
     "name": "stdout",
     "output_type": "stream",
     "text": [
      "{1, 2, 3, 4, 5, 6, 7, 8, 9, 10, 11, 12, 13, 14, 15, 16, 17, 18, 19, 20}\n"
     ]
    }
   ],
   "source": [
    "# 50. Merge multiple sets into one.\n",
    "\n",
    "\n",
    "s={1,2,3,4,5}\n",
    "s1={6,7,8,9,10}\n",
    "s2={11,12,13,14,15}\n",
    "s3={16,17,18,19,20}\n",
    "\n",
    "s= s|s1|s2|s3\n",
    "print(s)\n"
   ]
  },
  {
   "cell_type": "code",
   "execution_count": null,
   "id": "8f30847a-eead-40ff-9574-d51711714a40",
   "metadata": {},
   "outputs": [],
   "source": []
  }
 ],
 "metadata": {
  "kernelspec": {
   "display_name": "Python 3 (ipykernel)",
   "language": "python",
   "name": "python3"
  },
  "language_info": {
   "codemirror_mode": {
    "name": "ipython",
    "version": 3
   },
   "file_extension": ".py",
   "mimetype": "text/x-python",
   "name": "python",
   "nbconvert_exporter": "python",
   "pygments_lexer": "ipython3",
   "version": "3.12.7"
  }
 },
 "nbformat": 4,
 "nbformat_minor": 5
}
