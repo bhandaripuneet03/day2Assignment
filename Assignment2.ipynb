{
 "cells": [
  {
   "cell_type": "code",
   "execution_count": 28,
   "id": "def2704c-2a4b-4d37-9bfd-a5ca65968e09",
   "metadata": {},
   "outputs": [
    {
     "data": {
      "text/plain": [
       "'dcba'"
      ]
     },
     "execution_count": 28,
     "metadata": {},
     "output_type": "execute_result"
    }
   ],
   "source": [
    "#string reverse\n",
    "s=\"abcd\"\n",
    "s[::-1]"
   ]
  },
  {
   "cell_type": "code",
   "execution_count": 30,
   "id": "993367d4-07b7-4dab-a4e0-c368785450c6",
   "metadata": {},
   "outputs": [
    {
     "name": "stdout",
     "output_type": "stream",
     "text": [
      "False\n"
     ]
    }
   ],
   "source": [
    "#2. check if a string is palindrome or not\n",
    "def palindrome(s1):\n",
    "    i=0\n",
    "    j=len(s1)-1\n",
    "    \n",
    "    while i<j:\n",
    "        if s1[i] != s1[j]:\n",
    "            return False\n",
    "    i=i+1\n",
    "    j=j-1\n",
    "       \n",
    "    return True\n",
    "\n",
    "\n",
    "s1=\"abc\"\n",
    "print(palindrome(s1))"
   ]
  },
  {
   "cell_type": "code",
   "execution_count": 32,
   "id": "beedba4e-c694-4b22-aa92-6fa4556fcbe9",
   "metadata": {},
   "outputs": [
    {
     "name": "stdout",
     "output_type": "stream",
     "text": [
      "ABC\n"
     ]
    }
   ],
   "source": [
    "#3 question\n",
    "s1=\"abc\"\n",
    "s1=s1.upper()\n",
    "print(s1)\n"
   ]
  },
  {
   "cell_type": "code",
   "execution_count": 34,
   "id": "b7af6849-cf76-4a91-88fe-e768cb13cd87",
   "metadata": {},
   "outputs": [
    {
     "name": "stdout",
     "output_type": "stream",
     "text": [
      "abc\n"
     ]
    }
   ],
   "source": [
    "s1=\"ABC\"\n",
    "s1=s1.lower()\n",
    "print(s1)"
   ]
  },
  {
   "cell_type": "code",
   "execution_count": 36,
   "id": "34df6e49-f05a-4513-9562-fb28febf9454",
   "metadata": {},
   "outputs": [
    {
     "name": "stdout",
     "output_type": "stream",
     "text": [
      "4\n"
     ]
    }
   ],
   "source": [
    "#Count the number of vowels in a string.\n",
    "s1 = \"abceio\"\n",
    "s2 = \"aeiou\"\n",
    "\n",
    "count=0\n",
    "\n",
    "for i in s1 :\n",
    "    for j in s2 :\n",
    "        if i == j:\n",
    "            count = count+1\n",
    "        \n",
    "print(count)"
   ]
  },
  {
   "cell_type": "code",
   "execution_count": 38,
   "id": "cac34350-5a45-4a02-bb4c-712daed859c4",
   "metadata": {},
   "outputs": [
    {
     "name": "stdout",
     "output_type": "stream",
     "text": [
      "2\n"
     ]
    }
   ],
   "source": [
    "#Count the number of consonants in a string.\n",
    "\n",
    "s1 = \"abceio\"\n",
    "s2 = \"bcdfgjklmnpqstvxzhrwy\"\n",
    "\n",
    "count=0\n",
    "\n",
    "for i in s1 :\n",
    "    for j in s2 :\n",
    "        if i == j:\n",
    "            count = count+1\n",
    "        \n",
    "print(count)"
   ]
  },
  {
   "cell_type": "code",
   "execution_count": 40,
   "id": "6fe69500-e3fd-4fb0-a986-c6fbcc8710d2",
   "metadata": {},
   "outputs": [
    {
     "name": "stdout",
     "output_type": "stream",
     "text": [
      "abceio\n"
     ]
    }
   ],
   "source": [
    "#remove white spaces\n",
    "s1 = \"  abceio  \"\n",
    "s1=s1.strip()\n",
    "print(s1)\n"
   ]
  },
  {
   "cell_type": "code",
   "execution_count": 42,
   "id": "29b17fa6-b8ae-4adf-8f46-184582c1256b",
   "metadata": {},
   "outputs": [
    {
     "name": "stdout",
     "output_type": "stream",
     "text": [
      "10\n"
     ]
    }
   ],
   "source": [
    "#Find the length of a string without using the `len()` function.\n",
    "\n",
    "s1=\"  acbcdee \"\n",
    "\n",
    "count =0\n",
    "\n",
    "for i in s1:\n",
    "    count = count +1\n",
    "\n",
    "print(count)"
   ]
  },
  {
   "cell_type": "code",
   "execution_count": 44,
   "id": "4c683d30-94f9-4e39-8c2a-95161e08b115",
   "metadata": {},
   "outputs": [
    {
     "name": "stdin",
     "output_type": "stream",
     "text": [
      "enter the character to be search j\n"
     ]
    },
    {
     "name": "stdout",
     "output_type": "stream",
     "text": [
      "yes contain\n"
     ]
    }
   ],
   "source": [
    "#Check if a string contains a specific word.\n",
    "\n",
    "s1= \"abcjnsdkfjojfo\"\n",
    "s1 = input(\"enter the character to be search\")\n",
    "\n",
    "for  i in s1 :\n",
    "    if i == s1:\n",
    "        print(\"yes contain\")\n",
    "        break\n",
    "    else:\n",
    "        print(\"not found\")"
   ]
  },
  {
   "cell_type": "code",
   "execution_count": 46,
   "id": "2881fb14-c093-4052-afb7-2453e7e9c38c",
   "metadata": {},
   "outputs": [
    {
     "name": "stdin",
     "output_type": "stream",
     "text": [
      "enter the char to be count o\n"
     ]
    },
    {
     "name": "stdout",
     "output_type": "stream",
     "text": [
      "1\n"
     ]
    }
   ],
   "source": [
    "#Count the occurrences of a word in a string.\n",
    "\n",
    "s1=\" helleeeoe\"\n",
    "count=0\n",
    "tocount=input(\"enter the char to be count\")\n",
    "\n",
    "for i in s1 :\n",
    "    if i == tocount:\n",
    "        count=count+1\n",
    "    \n",
    "if count != 0:\n",
    "    print(count)\n",
    "else:\n",
    "    print(\"word not found\")"
   ]
  },
  {
   "cell_type": "code",
   "execution_count": 48,
   "id": "04d8c6f0-f174-439b-8f61-18eabb965feb",
   "metadata": {},
   "outputs": [
    {
     "name": "stdout",
     "output_type": "stream",
     "text": [
      "7\n"
     ]
    }
   ],
   "source": [
    "#Find the first occurrence of a word in a string.\n",
    "\n",
    "s1 =\"bjsbjniramjknjkfsnik\"\n",
    "print(s1.find(\"ram\"))"
   ]
  },
  {
   "cell_type": "code",
   "execution_count": 50,
   "id": "536b30f8-c1c9-423b-b681-a80525f72d89",
   "metadata": {},
   "outputs": [
    {
     "name": "stdout",
     "output_type": "stream",
     "text": [
      "9\n"
     ]
    }
   ],
   "source": [
    "#Find the last occurrence of a word in a string.\n",
    "s1 =\"bjsbjniramjknjkfsnik\"\n",
    "wordtofind=\"ram\"\n",
    "k=len(wordtofind)-1\n",
    "print(s1.find(wordtofind)+k)\n"
   ]
  },
  {
   "cell_type": "code",
   "execution_count": 52,
   "id": "f339105d-fb5c-4512-bbbb-b46e820a234a",
   "metadata": {},
   "outputs": [
    {
     "name": "stdout",
     "output_type": "stream",
     "text": [
      "['ram', 'is', 'a', 'good', 'bouy']\n"
     ]
    }
   ],
   "source": [
    "#  Split a string into a list of words.\n",
    "s=\"ram is a good bouy\"\n",
    "print(s.split())\n"
   ]
  },
  {
   "cell_type": "code",
   "execution_count": 54,
   "id": "ea4849f6-68a8-47b7-8b2b-8957f44f7123",
   "metadata": {},
   "outputs": [
    {
     "name": "stdout",
     "output_type": "stream",
     "text": [
      " ram is a good boy\n"
     ]
    }
   ],
   "source": [
    "# Join a list of words into a string.\n",
    "l1 = [ \"ram\",\"is\", \"a\",\"good\",\"boy\"]\n",
    "s=\"\"\n",
    "for i in l1:\n",
    "    s= s+\" \"+ i\n",
    "\n",
    "print(s)"
   ]
  },
  {
   "cell_type": "code",
   "execution_count": 56,
   "id": "c1031bd9-c961-412c-9054-eb54432a06dd",
   "metadata": {},
   "outputs": [
    {
     "name": "stdout",
     "output_type": "stream",
     "text": [
      "ram_is_a_good_boy\n"
     ]
    }
   ],
   "source": [
    "#Convert a string where words are separated by spaces to one where words\n",
    "#are separated by underscores.\n",
    "s=\"ram is a good boy\"\n",
    "s=s.replace(\" \",\"_\")\n",
    "print(s)"
   ]
  },
  {
   "cell_type": "code",
   "execution_count": 62,
   "id": "7f5bf6f5-6552-450d-9dd9-98622f62b010",
   "metadata": {},
   "outputs": [
    {
     "name": "stdin",
     "output_type": "stream",
     "text": [
      "enter the specfic word:  ram\n"
     ]
    },
    {
     "name": "stdout",
     "output_type": "stream",
     "text": [
      "yes\n"
     ]
    }
   ],
   "source": [
    "#Check if a string starts with a specific word or phrase.\n",
    "\n",
    "s=\"ram is a good boy\"\n",
    "s1=input(\"enter the specfic word: \")\n",
    "\n",
    "for i in s.split():\n",
    "    if i == s1:\n",
    "        print(\"yes\")\n",
    "        break\n",
    "    else:\n",
    "        print(\"no\")\n",
    "        break\n",
    "\n"
   ]
  },
  {
   "cell_type": "code",
   "execution_count": 60,
   "id": "f5ced552-9fad-4779-a6dd-5cb797769325",
   "metadata": {},
   "outputs": [
    {
     "name": "stdin",
     "output_type": "stream",
     "text": [
      "enter the specfic word:  boy\n"
     ]
    },
    {
     "name": "stdout",
     "output_type": "stream",
     "text": [
      "yes\n"
     ]
    }
   ],
   "source": [
    "# Check if a string ends with a specific word or phrase.\n",
    "s=\"ram is a good boy\"\n",
    "s1=input(\"enter the specfic word: \")\n",
    "\n",
    "i =len(s)\n",
    "for i in reversed(s.split()):\n",
    "    if i == s1:\n",
    "        print(\"yes\")\n",
    "        break\n",
    "    else:\n",
    "        print(\"no\")\n",
    "        break"
   ]
  },
  {
   "cell_type": "code",
   "execution_count": 64,
   "id": "da57ad89-ce9e-4124-96c9-55dce99fd5f2",
   "metadata": {},
   "outputs": [
    {
     "name": "stdout",
     "output_type": "stream",
     "text": [
      "puneet is name my\n"
     ]
    }
   ],
   "source": [
    "#Reverse the order of words in a string.\n",
    "    \n",
    "s=\" my name is puneet\"\n",
    "s = s.split()\n",
    "final= ' '.join(s[::-1])\n",
    "print(final)\n",
    "\n"
   ]
  },
  {
   "cell_type": "code",
   "execution_count": 66,
   "id": "71c3f8da-5823-4642-aa28-bf27e4cd1432",
   "metadata": {},
   "outputs": [
    {
     "name": "stdout",
     "output_type": "stream",
     "text": [
      "yes\n"
     ]
    }
   ],
   "source": [
    "# Check if a string is alphanumeric\n",
    "s=\"abcs1jksk2bji5\"\n",
    "s1=\"1234567890\"\n",
    "count=0\n",
    "for i in s :\n",
    "    for j in s1 :\n",
    "        if   i == j:\n",
    "            count = count+1\n",
    "            break\n",
    "        \n",
    "   \n",
    "if(count == 0):\n",
    "    print(\"not\")\n",
    "else:\n",
    "    print(\"yes\")\n",
    "        "
   ]
  },
  {
   "cell_type": "code",
   "execution_count": 68,
   "id": "b5444682-b149-4f37-8561-fe4abaeebaa1",
   "metadata": {},
   "outputs": [
    {
     "name": "stdout",
     "output_type": "stream",
     "text": [
      "  1 2 5\n"
     ]
    }
   ],
   "source": [
    "# Extract all digits from a string.\n",
    "s=\"abcs1jksk2bji5\"\n",
    "s1=\"1234567890\"\n",
    "\n",
    "s2=\" \"\n",
    "for i in s:\n",
    "    for j in  s1:\n",
    "        if i == j:\n",
    "            s2= s2+\" \"+ j\n",
    "\n",
    "print(s2)"
   ]
  },
  {
   "cell_type": "code",
   "execution_count": 70,
   "id": "4fc3dc96-b608-430b-a9ec-233e8d7ca203",
   "metadata": {},
   "outputs": [
    {
     "name": "stdout",
     "output_type": "stream",
     "text": [
      "  a b c s j k s k b j i\n"
     ]
    }
   ],
   "source": [
    "# Extract all alphabets from a string.\n",
    "s=\"abcs1jksk2bji5\"\n",
    "s1=\"abcdefghijklmnopqrstuvwxyz\"\n",
    "\n",
    "s2=\" \"\n",
    "for i in s:\n",
    "    for j in  s1:\n",
    "        if i == j:\n",
    "            s2= s2+\" \"+ j\n",
    "\n",
    "print(s2)\n",
    "    \n"
   ]
  },
  {
   "cell_type": "code",
   "execution_count": 74,
   "id": "8ff99c22-dfb8-4196-98d8-4e1435f9a7c9",
   "metadata": {},
   "outputs": [
    {
     "name": "stdout",
     "output_type": "stream",
     "text": [
      "5\n"
     ]
    }
   ],
   "source": [
    "#  Count the number of uppercase letters in a string.\n",
    "s=\"abcs1HELLOjksk2bji5\"\n",
    "s1=\"ABCDEFGHIJKLMNOPQRSTUVWXYZ\"\n",
    "\n",
    "count =0\n",
    "for i in s:\n",
    "    for j in  s1:\n",
    "        if i == j:\n",
    "            count=count+1\n",
    "\n",
    "print(count)"
   ]
  },
  {
   "cell_type": "code",
   "execution_count": 76,
   "id": "569c2bee-5db1-4860-872d-6a1620e2a352",
   "metadata": {},
   "outputs": [
    {
     "name": "stdout",
     "output_type": "stream",
     "text": [
      "11\n"
     ]
    }
   ],
   "source": [
    "#  Count the number of lowercase letters in a string.\n",
    "s=\"abcs1HELLOjksk2bji5\"\n",
    "s1=\"abcdefghijklmnopqrstuvwxyz\"\n",
    "\n",
    "count =0\n",
    "for i in s:\n",
    "    for j in  s1:\n",
    "        if i == j:\n",
    "            count=count+1\n",
    "\n",
    "print(count)"
   ]
  },
  {
   "cell_type": "code",
   "execution_count": 78,
   "id": "f74ff9d3-b708-4f88-9e36-b61cc9053e60",
   "metadata": {},
   "outputs": [
    {
     "name": "stdin",
     "output_type": "stream",
     "text": [
      "enter the word to remove :  is\n"
     ]
    },
    {
     "name": "stdout",
     "output_type": "stream",
     "text": [
      "  my name puneet\n"
     ]
    }
   ],
   "source": [
    "# Remove a specific word from a string.\n",
    "s=\"my name is puneet\"\n",
    "s1=input(\"enter the word to remove : \")\n",
    "\n",
    "sfinal=\" \"\n",
    "for i  in s.split():\n",
    "    if i != s1:\n",
    "        sfinal =sfinal+ \" \"+i\n",
    "\n",
    "print(sfinal)\n",
    "\n",
    "   "
   ]
  },
  {
   "cell_type": "code",
   "execution_count": 80,
   "id": "13e75e49-21e4-40c6-9074-a4160662cdce",
   "metadata": {},
   "outputs": [
    {
     "name": "stdout",
     "output_type": "stream",
     "text": [
      "enter valid email address\n"
     ]
    }
   ],
   "source": [
    "# Check if a string is a valid email address\n",
    "s=\"bhandaripuneet03gmail.com\"\n",
    "s1=\".com\"\n",
    "s2=\"@\"\n",
    "\n",
    "t1=s.__contains__(\"@\")\n",
    "t2=s.__contains__(\".com\")\n",
    "\n",
    "if t1 == True and t2 ==True:\n",
    "    print(\"valid\")      \n",
    "else:\n",
    "    print(\"enter valid email address\")\n",
    "    \n",
    "\n"
   ]
  },
  {
   "cell_type": "code",
   "execution_count": 82,
   "id": "d5ee1435-44e8-4fc8-9874-076d8412349d",
   "metadata": {},
   "outputs": [
    {
     "name": "stdout",
     "output_type": "stream",
     "text": [
      "bhandaripuneet03\n"
     ]
    }
   ],
   "source": [
    "#  Extract the username from an email address string.\n",
    "s=\"bhandaripuneet03@gmail.com\"\n",
    "\n",
    "s2=\"@\"\n",
    "\n",
    "username=\"\"\n",
    "\n",
    "for i in s:\n",
    "    if i == s2:\n",
    "        break\n",
    "    username = username+ i\n",
    "    \n",
    "\n",
    "print(username)\n",
    "    "
   ]
  },
  {
   "cell_type": "code",
   "execution_count": 84,
   "id": "d586be7d-a46c-45f1-954b-e630d2aa2ac3",
   "metadata": {},
   "outputs": [
    {
     "name": "stdout",
     "output_type": "stream",
     "text": [
      "http\n"
     ]
    }
   ],
   "source": [
    "#  Extract the protocol (http or https) from a URL string.\n",
    "S = \"http://localhost:8889/notebooks/Frisson_devhub%2FAssignment2.ipynb\"\n",
    "\n",
    "s1 = \"\"\n",
    "\n",
    "for i in S:\n",
    "    if i != \":\":\n",
    "        s1 = s1 + i\n",
    "    else:\n",
    "        break\n",
    "\n",
    "print(s1)\n",
    "    \n"
   ]
  },
  {
   "cell_type": "code",
   "execution_count": 86,
   "id": "49bcc5df-bfa7-4dd9-9a8f-63825c3474e7",
   "metadata": {},
   "outputs": [
    {
     "name": "stdout",
     "output_type": "stream",
     "text": [
      "6\n"
     ]
    }
   ],
   "source": [
    "#36. Find the frequency of each character in a string.\n",
    "\n",
    "s=\"raaamisss aaa\"\n",
    "print(s.count(\"a\"))\n"
   ]
  },
  {
   "cell_type": "code",
   "execution_count": 88,
   "id": "885357e4-a347-4cb6-a9f0-bf567a0b021e",
   "metadata": {},
   "outputs": [
    {
     "name": "stdout",
     "output_type": "stream",
     "text": [
      " the quick brown fox  jumps over the  lazy little dg\n"
     ]
    }
   ],
   "source": [
    "# 37. Remove all punctuation from a string.\n",
    "s=\"the quick; brown fox ,, jumps over the ! lazy little d@g\"\n",
    "s1=\";,!@\"\n",
    "sfinal=\" \"\n",
    "for i in s:\n",
    "    if i not in s1:\n",
    "        sfinal+=i\n",
    "\n",
    "print(sfinal)\n"
   ]
  },
  {
   "cell_type": "code",
   "execution_count": 90,
   "id": "487733ec-f921-4d10-9b86-2193543adf4d",
   "metadata": {},
   "outputs": [
    {
     "name": "stdout",
     "output_type": "stream",
     "text": [
      "False\n"
     ]
    }
   ],
   "source": [
    "# 38. Check if a string contains only digits.\n",
    "\n",
    "s = \"12345sfsf\"\n",
    "print(s.isdigit()) \n"
   ]
  },
  {
   "cell_type": "code",
   "execution_count": 92,
   "id": "3ba868d4-ca8d-4d63-850a-95cf103511d5",
   "metadata": {},
   "outputs": [
    {
     "name": "stdout",
     "output_type": "stream",
     "text": [
      "True\n"
     ]
    }
   ],
   "source": [
    "# 39. Check if a string contains only alphabets.\n",
    "\n",
    "\n",
    "s = \"vnkvnsd\"\n",
    "print(s.isalpha()) \n",
    "\n"
   ]
  },
  {
   "cell_type": "code",
   "execution_count": 94,
   "id": "9ca6b5e0-d127-499d-9e77-5e403588ccae",
   "metadata": {},
   "outputs": [
    {
     "name": "stdout",
     "output_type": "stream",
     "text": [
      "['b', 'n', 'h', '1', '2']\n"
     ]
    }
   ],
   "source": [
    "# 40. Convert a string to a list of characters.\n",
    "\n",
    "s=\"bnh12\"\n",
    "c=[]\n",
    "\n",
    "for i in s:\n",
    "    c.append(i)\n",
    "\n",
    "print(c)\n",
    "\n"
   ]
  },
  {
   "cell_type": "code",
   "execution_count": 96,
   "id": "27ca5309-df6c-42bb-abc2-00c8c1f7fc31",
   "metadata": {},
   "outputs": [
    {
     "name": "stdout",
     "output_type": "stream",
     "text": [
      "no\n"
     ]
    }
   ],
   "source": [
    "# Check if two strings are anagrams.\n",
    "\n",
    "s1=\"hararam\"\n",
    "s2=\"rmaerah\"\n",
    "\n",
    "dict={}\n",
    "dict2={}\n",
    "\n",
    "for i in s1:                     #simply made two hashmap and check whether the both maps are equal or not\n",
    "# google the method to add the values of the string in the dictionary\n",
    "    dict[i] = dict.get(i,0)+1 \n",
    "    \n",
    "for i in s2:\n",
    "    dict2[i] = dict2.get(i,0)+1\n",
    "\n",
    " \n",
    "\n",
    "if dict == dict2:\n",
    "    print(\"anagram\")\n",
    "else:\n",
    "    print(\"no\")"
   ]
  },
  {
   "cell_type": "code",
   "execution_count": 98,
   "id": "27524e24-8a53-4b0d-8e2f-e4df6f188646",
   "metadata": {},
   "outputs": [],
   "source": [
    "# 44. Find the most frequent word in a string.\n",
    "\n",
    "s=\"my name is puneet and is and i most frequent\"\n",
    "s=s.split()\n",
    "dict ={}\n",
    "for i in s:\n",
    "    dict[i]= dict.get(i,0)+1 #string ko words mai split krke words ke occurence ko count krlo and then word with most occurence ko print kr do "
   ]
  },
  {
   "cell_type": "code",
   "execution_count": 100,
   "id": "aa748f66-ba01-4649-a943-d62803b3f93b",
   "metadata": {},
   "outputs": [
    {
     "name": "stdout",
     "output_type": "stream",
     "text": [
      "a\n",
      "fody\n",
      "boy\n",
      "am\n",
      "with\n"
     ]
    }
   ],
   "source": [
    "# 45. Find all unique words in a string.\n",
    "\n",
    "s=\"ram ram is is a foody foody fody boy am with\"\n",
    "s=s.split()\n",
    "dict={}\n",
    "\n",
    "for i in s:\n",
    "    dict[i] = dict.get(i,0)+1\n",
    "\n",
    "for i, value in dict.items():\n",
    "    if value == 1:\n",
    "        print(i)\n",
    "    "
   ]
  },
  {
   "cell_type": "code",
   "execution_count": 102,
   "id": "2285b2b4-5988-4d0b-9a9b-508f9ea86daa",
   "metadata": {},
   "outputs": [
    {
     "name": "stdout",
     "output_type": "stream",
     "text": [
      "  the ram a good boy\n"
     ]
    }
   ],
   "source": [
    "# 48. Remove the nth word from a string.\n",
    "\n",
    "s=\"the ram is a good boy\"\n",
    "number = 2\n",
    "s=s.split()\n",
    "sfinal=\" \"\n",
    "\n",
    "for i in range(len(s)): #simply skip the ith value and add rest of the value in the sfinal\n",
    "    if i == number:\n",
    "            continue\n",
    "    else:\n",
    "        sfinal= sfinal+\" \"+s[i]\n",
    "    \n",
    "    \n",
    "print(sfinal)"
   ]
  },
  {
   "cell_type": "code",
   "execution_count": 104,
   "id": "e8c1a124-b109-436b-9cf1-912ea6195c58",
   "metadata": {},
   "outputs": [
    {
     "name": "stdout",
     "output_type": "stream",
     "text": [
      "  the ram added a good boy\n"
     ]
    }
   ],
   "source": [
    "# 49. Insert a word at the nth position in a string.\n",
    "\n",
    "\n",
    "s=\"the ram is a good boy\"\n",
    "number = 2\n",
    "s1=\"added\"\n",
    "s=s.split()\n",
    "sfinal=\" \"\n",
    "\n",
    "for i in range(len(s)):\n",
    "    if i == number:\n",
    "           sfinal =sfinal+ \" \"+ s1\n",
    "    else:\n",
    "        sfinal= sfinal+\" \"+s[i]\n",
    "    \n",
    "    \n",
    "print(sfinal)"
   ]
  },
  {
   "cell_type": "code",
   "execution_count": null,
   "id": "7ee2e1a9-9041-406b-b22e-9d04aa44497b",
   "metadata": {},
   "outputs": [],
   "source": []
  }
 ],
 "metadata": {
  "kernelspec": {
   "display_name": "Python 3 (ipykernel)",
   "language": "python",
   "name": "python3"
  },
  "language_info": {
   "codemirror_mode": {
    "name": "ipython",
    "version": 3
   },
   "file_extension": ".py",
   "mimetype": "text/x-python",
   "name": "python",
   "nbconvert_exporter": "python",
   "pygments_lexer": "ipython3",
   "version": "3.12.7"
  }
 },
 "nbformat": 4,
 "nbformat_minor": 5
}
