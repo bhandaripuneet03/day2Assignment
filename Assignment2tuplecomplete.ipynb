{
 "cells": [
  {
   "cell_type": "code",
   "execution_count": 2,
   "id": "5bf6727c-5e87-42af-b811-eb6c0f028659",
   "metadata": {},
   "outputs": [
    {
     "name": "stdout",
     "output_type": "stream",
     "text": [
      "(1, 2, 3, 4, 5)\n"
     ]
    }
   ],
   "source": [
    "# 1. Create a tuple with integers from 1 to 5.\n",
    "tuple = (1, 2, 3, 4, 5)\n",
    "print(tuple)\n",
    "\n"
   ]
  },
  {
   "cell_type": "code",
   "execution_count": 4,
   "id": "d2564f81-42ab-4c0e-931f-048f840b9ae4",
   "metadata": {},
   "outputs": [
    {
     "name": "stdout",
     "output_type": "stream",
     "text": [
      "3\n"
     ]
    }
   ],
   "source": [
    "#2. Access the third element of a tuple.\n",
    "\n",
    "tuple = (1, 2, 3, 4, 5)\n",
    "n=3\n",
    "for i in range(len(tuple)):\n",
    "    if i == n-1:\n",
    "        print(tuple[i])\n",
    "        break"
   ]
  },
  {
   "cell_type": "code",
   "execution_count": 6,
   "id": "0ef85583-cd17-4ea1-be2e-8bcb4f64951d",
   "metadata": {},
   "outputs": [
    {
     "name": "stdout",
     "output_type": "stream",
     "text": [
      "5\n"
     ]
    }
   ],
   "source": [
    "#3. Find the length of a tuple without using the `len()` function.\n",
    "\n",
    "\n",
    "tuple = (1, 2, 3, 4, 5)\n",
    "n=0\n",
    "\n",
    "for i in range(len(tuple)):\n",
    "    n=n+1\n",
    "print(n)\n",
    "\n"
   ]
  },
  {
   "cell_type": "code",
   "execution_count": 8,
   "id": "63995375-1c43-436e-a33d-d659d53cbabc",
   "metadata": {},
   "outputs": [
    {
     "name": "stdout",
     "output_type": "stream",
     "text": [
      "3\n"
     ]
    }
   ],
   "source": [
    "#4. Count the occurrences of an element in a tuple.\n",
    "\n",
    "\n",
    "\n",
    "tuple = (1, 2, 3, 4,4,4, 5)\n",
    "print(tuple.count(4))"
   ]
  },
  {
   "cell_type": "code",
   "execution_count": 10,
   "id": "35ec43c5-b97f-4a60-9dc8-562a3487d15e",
   "metadata": {},
   "outputs": [
    {
     "name": "stdout",
     "output_type": "stream",
     "text": [
      "3\n"
     ]
    }
   ],
   "source": [
    "# 5. Find the index of the first occurrence of an element in a tuple.\n",
    "\n",
    "\n",
    "\n",
    "\n",
    "tuple = (1, 2, 3, 4,4,4, 5)\n",
    "print(tuple.index(4))"
   ]
  },
  {
   "cell_type": "code",
   "execution_count": 12,
   "id": "90c1ece5-5fa4-4a49-88b3-295725a31284",
   "metadata": {},
   "outputs": [
    {
     "name": "stdout",
     "output_type": "stream",
     "text": [
      "True\n"
     ]
    }
   ],
   "source": [
    "# 6. Check if an element exists in a tuple.\n",
    "\n",
    "tuple = (1, 2, 3, 4,4,4, 5)\n",
    "print(tuple.__contains__(4))"
   ]
  },
  {
   "cell_type": "code",
   "execution_count": 14,
   "id": "fb61ec69-9983-4c27-bf4c-f9ca5df873f7",
   "metadata": {},
   "outputs": [
    {
     "name": "stdout",
     "output_type": "stream",
     "text": [
      "[1, 2, 3, 4, 4, 4, 5]\n"
     ]
    }
   ],
   "source": [
    "# 6. Check if an element exists in a tuple.\n",
    "\n",
    "tuple = (1, 2, 3, 4,4,4, 5)\n",
    "list=[]\n",
    "\n",
    "for i in range(len(tuple)):\n",
    "    list.append(tuple[i])\n",
    "\n",
    "tuple=list\n",
    "print(tuple)"
   ]
  },
  {
   "cell_type": "code",
   "execution_count": 16,
   "id": "d8916832-36b0-45cc-9b8a-4088e845b64b",
   "metadata": {},
   "outputs": [
    {
     "name": "stdout",
     "output_type": "stream",
     "text": [
      "(2, 4, 6, 8)\n"
     ]
    }
   ],
   "source": [
    "# 10. Create a tuple of even numbers from 1 to 10.\n",
    "\n",
    "tuple1=()\n",
    "\n",
    "for i in range(1,10):\n",
    "    if i%2==0:\n",
    "        tuple1 =tuple1+ (i,)\n",
    "    \n",
    "print(tuple1)"
   ]
  },
  {
   "cell_type": "code",
   "execution_count": 18,
   "id": "fbe1b4bf-b71f-4bce-b1bd-3714ef636fb2",
   "metadata": {},
   "outputs": [
    {
     "name": "stdout",
     "output_type": "stream",
     "text": [
      "(1, 3, 5, 7, 9)\n"
     ]
    }
   ],
   "source": [
    "# 11. Create a tuple of odd numbers from 1 to 10.\n",
    "\n",
    "\n",
    "tuple1=()\n",
    "\n",
    "for i in range(1,10):\n",
    "    if i%2!=0:\n",
    "        tuple1 =tuple1+ (i,)\n",
    "    \n",
    "print(tuple1)"
   ]
  },
  {
   "cell_type": "code",
   "execution_count": 20,
   "id": "08303486-a9d6-47a4-b24c-13de4e2f4b97",
   "metadata": {},
   "outputs": [
    {
     "name": "stdout",
     "output_type": "stream",
     "text": [
      "(1, 2, 3, 4, 5, 6)\n"
     ]
    }
   ],
   "source": [
    "# 11. Create a tuple of odd numbers from 1 to 10.\n",
    "\n",
    "\n",
    "tuple1=(1,2,3)\n",
    "tuple2=(4,5,6)\n",
    "t3=tuple1+tuple2\n",
    "print(t3)\n"
   ]
  },
  {
   "cell_type": "code",
   "execution_count": 22,
   "id": "d147e251-26df-4acb-858d-d780a1be3748",
   "metadata": {},
   "outputs": [
    {
     "name": "stdout",
     "output_type": "stream",
     "text": [
      "(1, 2, 3, 1, 2, 3, 1, 2, 3)\n"
     ]
    }
   ],
   "source": [
    "# 11. 13. Repeat a tuple three times.\n",
    "\n",
    "\n",
    "\n",
    "tuple1=(1,2,3)\n",
    "\n",
    "\n",
    "print(tuple1 *3)\n"
   ]
  },
  {
   "cell_type": "code",
   "execution_count": 24,
   "id": "dce6fe96-dd04-433b-8394-22ac6e13f958",
   "metadata": {},
   "outputs": [
    {
     "name": "stdout",
     "output_type": "stream",
     "text": [
      "not\n"
     ]
    }
   ],
   "source": [
    "# 14. Check if a tuple is empty.\n",
    "\n",
    "tuple1=(1,2,3)\n",
    "s=len(tuple1)\n",
    "if(s<0):\n",
    "    print(\"tuple empty\")\n",
    "else:\n",
    "    print(\"not\")"
   ]
  },
  {
   "cell_type": "code",
   "execution_count": 26,
   "id": "e690c1e9-4a76-481a-a36b-429aa509bb37",
   "metadata": {},
   "outputs": [
    {
     "name": "stdout",
     "output_type": "stream",
     "text": [
      "(1, 2, 3, 4, (1, 2, 3))\n"
     ]
    }
   ],
   "source": [
    "#15. Create a nested tuple.\n",
    " \n",
    "\n",
    "tuple1=(1,2,3,4,(1,2,3))\n",
    "print(tuple1)"
   ]
  },
  {
   "cell_type": "code",
   "execution_count": 28,
   "id": "e4a75b3d-60db-42f1-99ab-9310a09ebcae",
   "metadata": {},
   "outputs": [
    {
     "name": "stdout",
     "output_type": "stream",
     "text": [
      "1\n"
     ]
    }
   ],
   "source": [
    "tuple1=(1,2,3,4,(1,2,3))\n",
    "print(tuple1[0])\n"
   ]
  },
  {
   "cell_type": "code",
   "execution_count": 30,
   "id": "216cf154-2f83-44c3-9e7b-182d0da86a77",
   "metadata": {},
   "outputs": [
    {
     "name": "stdout",
     "output_type": "stream",
     "text": [
      "<class 'tuple'>\n"
     ]
    }
   ],
   "source": [
    "#17. Create a tuple with a single element.\n",
    "\n",
    "\n",
    " \n",
    "\n",
    "tuple1=(1,)\n",
    "print(type(tuple1))"
   ]
  },
  {
   "cell_type": "code",
   "execution_count": 32,
   "id": "bc0833a6-ee3f-4455-977a-aeda46a6af08",
   "metadata": {},
   "outputs": [
    {
     "name": "stdout",
     "output_type": "stream",
     "text": [
      "True\n"
     ]
    }
   ],
   "source": [
    "#17. Create a tuple with a single element.\n",
    "\n",
    "tuple1=(1,2,3)\n",
    "tuple2=(1,2,3)\n",
    "\n",
    "if tuple1 == tuple2:\n",
    "   print(True)\n",
    "else:\n",
    "    print(False)"
   ]
  },
  {
   "cell_type": "code",
   "execution_count": 2,
   "id": "2a05a00c-8bd8-4661-b23e-3b1d7fae3fec",
   "metadata": {},
   "outputs": [
    {
     "name": "stdout",
     "output_type": "stream",
     "text": [
      "(1, 3)\n"
     ]
    }
   ],
   "source": [
    "#19. Delete a tuple.\n",
    "\n",
    "\n",
    "tuple1=(1,2,3)\n",
    "elementodel=2\n",
    "l=[]\n",
    "\n",
    "for i in tuple1:\n",
    "    if i == elementodel:\n",
    "        continue\n",
    "    else:\n",
    "        l.append(i)\n",
    "\n",
    "tuple1=tuple(l)\n",
    "print(tuple1)\n"
   ]
  },
  {
   "cell_type": "code",
   "execution_count": 4,
   "id": "116f11d4-d85c-4642-8f91-69aff5eded99",
   "metadata": {},
   "outputs": [
    {
     "name": "stdout",
     "output_type": "stream",
     "text": [
      "6\n"
     ]
    }
   ],
   "source": [
    "#21. Find the maximum value in a tuple.\n",
    "\n",
    "\n",
    "\n",
    "tuple1=(1,2,3,2,4,6)\n",
    "tuple1 = list(tuple1)\n",
    "tuple1.sort()\n",
    "\n",
    "print(tuple1[len(tuple1)-1])"
   ]
  },
  {
   "cell_type": "code",
   "execution_count": 6,
   "id": "4a4d01ed-55a7-49bf-a6f1-5bae01450f0e",
   "metadata": {},
   "outputs": [
    {
     "name": "stdout",
     "output_type": "stream",
     "text": [
      "1\n"
     ]
    }
   ],
   "source": [
    "# 22. Find the minimum value in a tuple.\n",
    "\n",
    "\n",
    "\n",
    "\n",
    "tuple1=(1,2,3,2,4,6)\n",
    "tuple1 = list(tuple1)\n",
    "tuple1.sort()\n",
    "\n",
    "print(tuple1[0])"
   ]
  },
  {
   "cell_type": "code",
   "execution_count": 8,
   "id": "7627ddfc-20c7-4538-a89f-ee72dbc13421",
   "metadata": {},
   "outputs": [
    {
     "name": "stdout",
     "output_type": "stream",
     "text": [
      "('r', 'a', 'm')\n"
     ]
    }
   ],
   "source": [
    "# 23. Convert a string to a tuple of characters.\n",
    "\n",
    "\n",
    "\n",
    "\n",
    "s=\"ram\"\n",
    "tu=tuple(s)\n",
    "s=tu\n",
    "print(s)"
   ]
  },
  {
   "cell_type": "code",
   "execution_count": 10,
   "id": "2ab60352-7fa3-480d-b9d5-c5f34fdbddf3",
   "metadata": {},
   "outputs": [
    {
     "name": "stdout",
     "output_type": "stream",
     "text": [
      "ram\n"
     ]
    }
   ],
   "source": [
    "#24. Convert a tuple of characters to a string.\n",
    "\n",
    "\n",
    "s=('r', 'a', 'm')\n",
    "tu=\"\"\n",
    "for i in s:\n",
    "    tu=tu+i\n",
    "print(tu)\n"
   ]
  },
  {
   "cell_type": "code",
   "execution_count": 12,
   "id": "1815b547-23e3-47d1-9353-972519416f73",
   "metadata": {},
   "outputs": [
    {
     "name": "stdout",
     "output_type": "stream",
     "text": [
      "no\n"
     ]
    }
   ],
   "source": [
    "# 26. Check if two tuples are identical.\n",
    "\n",
    "s=('r', 'a', 'm')\n",
    "tu={'r','a','s'}\n",
    "\n",
    "if s==tu:\n",
    "    print(\"yes\")\n",
    "else:\n",
    "    print(\"no\")"
   ]
  },
  {
   "cell_type": "code",
   "execution_count": 14,
   "id": "5bf6954a-bb75-4ffe-8544-851b4a5624d1",
   "metadata": {},
   "outputs": [
    {
     "name": "stdout",
     "output_type": "stream",
     "text": [
      "('a', 'm', 'r')\n"
     ]
    }
   ],
   "source": [
    "# 27. Sort the elements of a tuple.\n",
    "\n",
    "\n",
    "s=('r', 'a', 'm')\n",
    "t=list(s)\n",
    "t.sort()\n",
    "s=tuple(t)\n",
    "print(s)"
   ]
  },
  {
   "cell_type": "code",
   "execution_count": 16,
   "id": "1119037d-c53e-4a79-b361-b0a80462fd51",
   "metadata": {},
   "outputs": [
    {
     "name": "stdout",
     "output_type": "stream",
     "text": [
      "('1', '2', '3', '5', '6')\n"
     ]
    }
   ],
   "source": [
    "# 28. Convert a tuple of integers to a tuple of strings.\n",
    "\n",
    "\n",
    "\n",
    "s=(1,2,3,5,6)\n",
    "li=[]\n",
    "for i in s:\n",
    "    li.append(str(i))\n",
    "\n",
    "s=tuple(li)    \n",
    "print(s)\n"
   ]
  },
  {
   "cell_type": "code",
   "execution_count": 18,
   "id": "e42bb594-e2b9-4e58-9b36-d8a7dd7a8fb7",
   "metadata": {},
   "outputs": [
    {
     "name": "stdout",
     "output_type": "stream",
     "text": [
      "(1, 2, 3, 5, 6)\n"
     ]
    }
   ],
   "source": [
    "# 29. Convert a tuple of strings to a tuple of integers.\n",
    "\n",
    "s=('1', '2', '3', '5', '6')\n",
    "li=[]\n",
    "for i in s:\n",
    "    li.append(int(i))\n",
    "\n",
    "s=tuple(li)    \n",
    "print(s)\n"
   ]
  },
  {
   "cell_type": "code",
   "execution_count": 2,
   "id": "87b4765e-b899-4bed-a814-dc39a4c5d3a0",
   "metadata": {},
   "outputs": [
    {
     "name": "stdout",
     "output_type": "stream",
     "text": [
      "('1', '2', '3', '5', '6', 1, 2, 3, 5, 6)\n"
     ]
    }
   ],
   "source": [
    "# 30. Merge two tuples.\n",
    "\n",
    "\n",
    "s=('1', '2', '3', '5', '6')\n",
    "s1=(1, 2, 3, 5, 6)\n",
    "\n",
    "t=s+s1\n",
    "print(t)\n"
   ]
  },
  {
   "cell_type": "code",
   "execution_count": 4,
   "id": "5f878a98-53af-487f-9935-c3d6a5605b6f",
   "metadata": {},
   "outputs": [
    {
     "name": "stdout",
     "output_type": "stream",
     "text": [
      "(2, 3, 5, 7, 11)\n"
     ]
    }
   ],
   "source": [
    "# 32. Create a tuple of the first 5 prime numbers.\n",
    "\n",
    "tu = tuple()\n",
    "lis = []\n",
    "i = 2\n",
    "\n",
    "while len(lis) < 5:\n",
    "    for j in range(2, i):\n",
    "        if i % j == 0:\n",
    "            break\n",
    "    else:\n",
    "        lis.append(i)\n",
    "    i += 1\n",
    "\n",
    "tu = tuple(lis)\n",
    "print(tu)"
   ]
  },
  {
   "cell_type": "code",
   "execution_count": 6,
   "id": "f5f86077-2222-4f16-a441-c479f54e551a",
   "metadata": {},
   "outputs": [
    {
     "name": "stdout",
     "output_type": "stream",
     "text": [
      "palindrome\n"
     ]
    }
   ],
   "source": [
    "#33. Check if a tuple is a palindrome.\n",
    "\n",
    "tup=(1,2,3,4,4,3,2,1)\n",
    "\n",
    "j=len(tup)-1\n",
    "count=0\n",
    "for i in range(len(tup)):\n",
    "    if tup[i] != tup[j]:\n",
    "        count=count+1\n",
    "        break\n",
    "    j=j-1\n",
    "if(count>0):\n",
    "    print(\"not palindrome\")\n",
    "else:\n",
    "    print(\"palindrome\")\n"
   ]
  },
  {
   "cell_type": "code",
   "execution_count": 8,
   "id": "8db36081-e6f4-4967-9c46-61edf0bea0c0",
   "metadata": {},
   "outputs": [
    {
     "name": "stdout",
     "output_type": "stream",
     "text": [
      "(1, 4, 9, 16, 25)\n"
     ]
    }
   ],
   "source": [
    "# 34. Create a tuple of squares of numbers from 1 to 5.\n",
    "\n",
    "\n",
    "tup=tuple()\n",
    "li=[]\n",
    "i=1\n",
    "while i <= 5:\n",
    "    li.append(i*i)\n",
    "    i=i+1\n",
    "tup=tuple(li)\n",
    "print(tup)"
   ]
  },
  {
   "cell_type": "code",
   "execution_count": 10,
   "id": "93931344-32de-4ec9-8d69-328497f52ace",
   "metadata": {},
   "outputs": [
    {
     "name": "stdout",
     "output_type": "stream",
     "text": [
      "(2, 4, 6, 8, 10)\n"
     ]
    }
   ],
   "source": [
    "# 35. Filter out all even numbers from a tuple.\n",
    "\n",
    "tup=(1,2,3,4,5,6,7,8,9,10)\n",
    "li=[]\n",
    "\n",
    "for i in tup:\n",
    "    if i%2==0:\n",
    "        li.append(i)\n",
    "tup=tuple(li)\n",
    "print(tup)"
   ]
  },
  {
   "cell_type": "code",
   "execution_count": 12,
   "id": "b759cea7-2804-4c8e-82fb-231e29844348",
   "metadata": {},
   "outputs": [
    {
     "name": "stdout",
     "output_type": "stream",
     "text": [
      "(2, 4, 6, 8, 10, 12, 14, 16, 18, 20)\n"
     ]
    }
   ],
   "source": [
    "# 36. Multiply all elements in a tuple by 2.\n",
    "\n",
    "\n",
    "tup=(1,2,3,4,5,6,7,8,9,10)\n",
    "li=[]\n",
    "\n",
    "for i in tup:\n",
    "     li.append(i*2)\n",
    "tup=tuple(li)\n",
    "print(tup)"
   ]
  },
  {
   "cell_type": "code",
   "execution_count": 14,
   "id": "18ec9c4b-867f-4f78-86c9-415731ba1551",
   "metadata": {},
   "outputs": [
    {
     "name": "stdout",
     "output_type": "stream",
     "text": [
      "(33, 99, 21, 73, 23, 57, 72, 0, 40, 42)\n"
     ]
    }
   ],
   "source": [
    "# 36. Multiply all elements in a tuple by 2.\n",
    "\n",
    "import random\n",
    "tup=tuple()\n",
    "li=[]\n",
    "\n",
    "for i in range(10):\n",
    "     li.append(random.randint(0,100))\n",
    "tup=tuple(li)\n",
    "print(tup)"
   ]
  },
  {
   "cell_type": "code",
   "execution_count": 16,
   "id": "06857679-c852-4c28-93a8-229c6f79de47",
   "metadata": {},
   "outputs": [
    {
     "name": "stdout",
     "output_type": "stream",
     "text": [
      "not sorted\n"
     ]
    }
   ],
   "source": [
    "# 38. Check if a tuple is sorted.\n",
    "\n",
    "\n",
    "\n",
    "tup=(1,2,3,4,5,6,2)\n",
    "count=0\n",
    "for i in range(1,len(tup)):\n",
    "    \n",
    "    if tup[i] < tup[i-1]:\n",
    "       count=count+1\n",
    "       break\n",
    "   \n",
    "if count >0:\n",
    "    print(\"not sorted\")\n",
    "else:\n",
    "    print(\"sorted\")\n"
   ]
  },
  {
   "cell_type": "code",
   "execution_count": 18,
   "id": "22ce008f-cfb5-42ba-8585-ed68e4fb69dc",
   "metadata": {},
   "outputs": [
    {
     "name": "stdout",
     "output_type": "stream",
     "text": [
      "(2, 6, 5, 4, 3, 2, 1)\n"
     ]
    }
   ],
   "source": [
    "# 43. Swap two elements in a tuple.\n",
    "\n",
    "tup=(1,2,3,4,5,6,2)\n",
    "tup=list(tup)\n",
    "i =0\n",
    "j=len(tup)-1\n",
    "#as the tuple is immutable change them to list and make changes \n",
    "while i<j:\n",
    "    temp =tup[i]\n",
    "    tup[i]=tup[j]\n",
    "    tup[j]=temp\n",
    "    i=i+1\n",
    "    j=j-1\n",
    "tup=tuple(tup)\n",
    "print(tup)"
   ]
  },
  {
   "cell_type": "code",
   "execution_count": 22,
   "id": "1bb510a5-cb4f-428c-a6ea-688928a4be59",
   "metadata": {},
   "outputs": [
    {
     "name": "stdin",
     "output_type": "stream",
     "text": [
      "enter the size of the tuple 5\n",
      "enter the element in the tuple 1\n",
      "enter the element in the tuple 2\n",
      "enter the element in the tuple 3\n",
      "enter the element in the tuple 4\n",
      "enter the element in the tuple 5\n"
     ]
    },
    {
     "name": "stdout",
     "output_type": "stream",
     "text": [
      "('1', '2', '3', '4', '5')\n"
     ]
    }
   ],
   "source": [
    "# 42. Create a tuple from user input.\n",
    "\n",
    "\n",
    "\n",
    "tup=tuple()\n",
    "li=[]\n",
    "\n",
    "n=int(input(\"enter the size of the tuple\"))\n",
    "\n",
    "for i in range(n):\n",
    "    ele=input(\"enter the element in the tuple\")\n",
    "    li.append(ele)\n",
    "tup=tuple(li)\n",
    "print(tup)"
   ]
  },
  {
   "cell_type": "code",
   "execution_count": 24,
   "id": "6f2ac169-f44d-4894-8aa3-9344a3a0577a",
   "metadata": {},
   "outputs": [
    {
     "name": "stdout",
     "output_type": "stream",
     "text": [
      "('5', '4', '3', '2', '1')\n"
     ]
    }
   ],
   "source": [
    "# 44. Reverse the elements of a tuple\n",
    "\n",
    "tup=('1', '2', '3', '4', '5')\n",
    "li=list(tup)\n",
    "gen=li[::-1]\n",
    "tup=tuple(gen)\n",
    "print(tup)"
   ]
  },
  {
   "cell_type": "code",
   "execution_count": 26,
   "id": "31dd29dc-399b-43de-a2fc-7c860c6fcf8f",
   "metadata": {},
   "outputs": [
    {
     "name": "stdin",
     "output_type": "stream",
     "text": [
      "enter the n powers of 2: 5\n"
     ]
    },
    {
     "name": "stdout",
     "output_type": "stream",
     "text": [
      "(2, 4, 8, 16, 32)\n"
     ]
    }
   ],
   "source": [
    "# 45. Create a tuple of the first `n` powers of 2.\n",
    "\n",
    "tup=tuple()\n",
    "li=[]\n",
    "n=int(input(\"enter the n powers of 2:\"))\n",
    "for i in range(1,n+1):\n",
    "    li.append(2 **i)\n",
    "tup=tuple(li)\n",
    "print(tup)"
   ]
  },
  {
   "cell_type": "code",
   "execution_count": 28,
   "id": "37ac54da-74a9-41c7-a9c9-5af9f8358e98",
   "metadata": {},
   "outputs": [
    {
     "name": "stdout",
     "output_type": "stream",
     "text": [
      "hello111\n"
     ]
    }
   ],
   "source": [
    "#46. Find the longest string in a tuple of strings.\n",
    "\n",
    "\n",
    "tup=(\"hello\",\"hello1\",\"hello11\",\"hello111\")\n",
    "max1 =0\n",
    "stri=\"\"\n",
    "i=0\n",
    "\n",
    "while i < len(tup):\n",
    "    count=0 #count ko zero rkho\n",
    "    a=tup[i] # this will help us to get the first indx value in the tuple\n",
    "    \n",
    "    for j in a: # jo idx value mili hai us pai loop chalao and length calculate kro \n",
    "        count=count+1\n",
    "    if count>max1: #agr uski length previous word ke length sai jada hai to usa max1 mai dal do and us string ko stri mai assign krdo\n",
    "        max1 =count\n",
    "        stri=a\n",
    "    i=i+1\n",
    "    \n",
    "print(stri)"
   ]
  },
  {
   "cell_type": "code",
   "execution_count": 30,
   "id": "beb5b021-428a-4b98-87c9-37943b432b74",
   "metadata": {},
   "outputs": [
    {
     "name": "stdout",
     "output_type": "stream",
     "text": [
      "hello\n"
     ]
    }
   ],
   "source": [
    "#47. Find the shortest string in a tuple of strings.\n",
    "\n",
    "\n",
    "\n",
    "tup=(\"hello\",\"hello1\",\"hello11\",\"hello111\")\n",
    "max1 =float('inf')\n",
    "stri=\"\"\n",
    "i=0\n",
    "\n",
    "while i < len(tup):\n",
    "    count=0\n",
    "    a=tup[i]\n",
    "    for j in a:\n",
    "        count=count+1\n",
    "    if count<max1:  #logic is similar to the upper logic but in place of taking the larger string we take the smaller string whose count is minmum\n",
    "        max1 =count\n",
    "        stri=a\n",
    "    i=i+1\n",
    "    \n",
    "print(stri)"
   ]
  },
  {
   "cell_type": "code",
   "execution_count": null,
   "id": "511d6701-f471-4257-a8f0-2c433ac65931",
   "metadata": {},
   "outputs": [],
   "source": []
  }
 ],
 "metadata": {
  "kernelspec": {
   "display_name": "Python 3 (ipykernel)",
   "language": "python",
   "name": "python3"
  },
  "language_info": {
   "codemirror_mode": {
    "name": "ipython",
    "version": 3
   },
   "file_extension": ".py",
   "mimetype": "text/x-python",
   "name": "python",
   "nbconvert_exporter": "python",
   "pygments_lexer": "ipython3",
   "version": "3.12.7"
  }
 },
 "nbformat": 4,
 "nbformat_minor": 5
}
