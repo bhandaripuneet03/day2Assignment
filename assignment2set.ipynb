{
 "cells": [
  {
   "cell_type": "code",
   "execution_count": 2,
   "id": "7db77c43-973b-4b20-a6fd-0225c3cd509e",
   "metadata": {},
   "outputs": [
    {
     "name": "stdout",
     "output_type": "stream",
     "text": [
      "{1, 2, 3, 4, 5}\n"
     ]
    }
   ],
   "source": [
    "# 1. Create a set with integers from 1 to 5.\n",
    "\n",
    "s={1,2,3,4,5}\n",
    "print(s)"
   ]
  },
  {
   "cell_type": "code",
   "execution_count": 4,
   "id": "5ff4c5bc-7854-40e6-bab2-f29934d704bb",
   "metadata": {},
   "outputs": [
    {
     "name": "stdout",
     "output_type": "stream",
     "text": [
      "{1, 2, 3, 4, 5, 7}\n"
     ]
    }
   ],
   "source": [
    "# 2. Add an element to a set.\n",
    "\n",
    "\n",
    "s={1,2,3,4,5}\n",
    "s.add(7)\n",
    "print(s)\n"
   ]
  },
  {
   "cell_type": "code",
   "execution_count": 6,
   "id": "385c90a2-f2db-4aeb-83a8-bc552d2d538c",
   "metadata": {},
   "outputs": [
    {
     "name": "stdout",
     "output_type": "stream",
     "text": [
      "{1, 2, 3, 4}\n"
     ]
    }
   ],
   "source": [
    "# 3. Remove an element from a set.\n",
    "s={1,2,3,4,5}\n",
    "s.remove(5)\n",
    "print(s)"
   ]
  },
  {
   "cell_type": "code",
   "execution_count": 8,
   "id": "84669270-ef61-4c51-a9ab-ec6d454b4a16",
   "metadata": {},
   "outputs": [
    {
     "name": "stdout",
     "output_type": "stream",
     "text": [
      "yes\n"
     ]
    }
   ],
   "source": [
    "# 4. Check if an element exists in a set.\n",
    "\n",
    "s={1,2,3,4,5}\n",
    "for i in s :\n",
    "     if i == 5:\n",
    "         print(\"yes\")"
   ]
  },
  {
   "cell_type": "code",
   "execution_count": 10,
   "id": "15356142-ae05-4e2c-93ac-4a54e48b64a5",
   "metadata": {},
   "outputs": [
    {
     "name": "stdout",
     "output_type": "stream",
     "text": [
      "5\n"
     ]
    }
   ],
   "source": [
    "# 5. Find the length of a set without using the `len()` function.\n",
    "\n",
    "\n",
    "s={1,2,3,4,5}\n",
    "count=0\n",
    "for i in s :\n",
    "     count=count+1\n",
    "print(count)\n",
    "     "
   ]
  },
  {
   "cell_type": "code",
   "execution_count": 12,
   "id": "37b992a9-6101-4fc9-b148-aabb3f198bba",
   "metadata": {},
   "outputs": [
    {
     "name": "stdout",
     "output_type": "stream",
     "text": [
      "set()\n"
     ]
    }
   ],
   "source": [
    "#6. Clear all elements from a set.\n",
    "\n",
    "s={1,2,3,4,5}\n",
    "for i in range(len(s)):\n",
    "    s.pop()\n",
    "print(s)"
   ]
  },
  {
   "cell_type": "code",
   "execution_count": 14,
   "id": "72f20a3e-760e-4500-97e7-5dbaab44326b",
   "metadata": {},
   "outputs": [
    {
     "name": "stdout",
     "output_type": "stream",
     "text": [
      "{0, 2, 4, 6, 8}\n"
     ]
    }
   ],
   "source": [
    "#7. Create a set of even numbers from 1 to 10.\n",
    "s=set()\n",
    "for i in range(10):\n",
    "    if i%2==0:\n",
    "       s.add(i)\n",
    "print(s)"
   ]
  },
  {
   "cell_type": "code",
   "execution_count": 16,
   "id": "fc835465-6112-4354-a8e7-95576cc1acc9",
   "metadata": {},
   "outputs": [
    {
     "name": "stdout",
     "output_type": "stream",
     "text": [
      "{1, 3, 5, 7, 9}\n"
     ]
    }
   ],
   "source": [
    "#8. Create a set of odd numbers from 1 to 10.\n",
    "\n",
    "s=set()\n",
    "for i in range(10):\n",
    "    if i%2!=0:\n",
    "       s.add(i)\n",
    "print(s)"
   ]
  },
  {
   "cell_type": "code",
   "execution_count": 24,
   "id": "a9ce6cdd-e6e4-469b-aac3-8d80e4e90dce",
   "metadata": {},
   "outputs": [
    {
     "name": "stdout",
     "output_type": "stream",
     "text": [
      "{1, 2, 3, 4, 5, 7, 9}\n"
     ]
    }
   ],
   "source": [
    "#9. Find the union of two sets.\n",
    "\n",
    "\n",
    "s={1, 3, 5, 7, 9}\n",
    "s1={1, 3, 5, 7, 9,2,4}\n",
    "\n",
    "s={1, 3, 5, 7, 9}\n",
    "s1={1, 3, 5, 7, 9,2,4}\n",
    "\n",
    "t= s |s1\n",
    "print(t)\n",
    "     "
   ]
  },
  {
   "cell_type": "code",
   "execution_count": 26,
   "id": "9408c4c4-211d-4bbe-ae13-cec22e0dd639",
   "metadata": {},
   "outputs": [
    {
     "name": "stdout",
     "output_type": "stream",
     "text": [
      "{1, 3, 5, 7, 9}\n"
     ]
    }
   ],
   "source": [
    "#10. Find the intersection of two sets.\n",
    "\n",
    "s={1, 3, 5, 7, 9}\n",
    "s1={1, 3, 5, 7, 9,2,4}\n",
    "\n",
    "t= s & s1\n",
    "print(t)\n",
    "     "
   ]
  },
  {
   "cell_type": "code",
   "execution_count": 28,
   "id": "10e2184b-f88b-433f-9cb0-e318ad7fe082",
   "metadata": {},
   "outputs": [
    {
     "name": "stdout",
     "output_type": "stream",
     "text": [
      "{9, 7}\n"
     ]
    }
   ],
   "source": [
    "#11. Find the difference between two sets.\n",
    "\n",
    "\n",
    "s = {1, 3, 5, 7, 9}\n",
    "s1 = {1, 3, 5}\n",
    "\n",
    "t = s - s1\n",
    "print(t)\n",
    "     "
   ]
  },
  {
   "cell_type": "code",
   "execution_count": 30,
   "id": "0249cecc-0da0-4770-8167-ce38408657d1",
   "metadata": {},
   "outputs": [
    {
     "name": "stdout",
     "output_type": "stream",
     "text": [
      "True\n"
     ]
    }
   ],
   "source": [
    "#12. Check if a set is a subset of another set.\n",
    "\n",
    "s = {1, 3, 5, 7, 9}\n",
    "s1 = {1, 3, 5}\n",
    "\n",
    "print(s1.issubset(s))"
   ]
  },
  {
   "cell_type": "code",
   "execution_count": 32,
   "id": "0cdc8d32-b195-4ba9-a45b-f38e2a1dd66a",
   "metadata": {},
   "outputs": [
    {
     "name": "stdout",
     "output_type": "stream",
     "text": [
      "True\n"
     ]
    }
   ],
   "source": [
    "#13. Check if a set is a superset of another set.\n",
    "\n",
    "\n",
    "s = {1, 3, 5, 7, 9}\n",
    "s1 = {1, 3, 5}\n",
    "\n",
    "print(s.issuperset(s1))"
   ]
  },
  {
   "cell_type": "code",
   "execution_count": 34,
   "id": "a37a79ee-1838-4676-8ebb-5d306a6dabdd",
   "metadata": {},
   "outputs": [
    {
     "name": "stdout",
     "output_type": "stream",
     "text": [
      "{1, 3, 5, 7, 9}\n"
     ]
    }
   ],
   "source": [
    "#14. Create a set from a list.\n",
    "\n",
    "s = {}\n",
    "s1 = [1, 3, 5, 7, 9]\n",
    "s= set(s1)\n",
    "\n",
    "print(s)"
   ]
  },
  {
   "cell_type": "code",
   "execution_count": 36,
   "id": "21c7459c-ea68-4c48-9dad-e4bd69631144",
   "metadata": {},
   "outputs": [
    {
     "name": "stdout",
     "output_type": "stream",
     "text": [
      "[1, 3, 5, 7, 9]\n"
     ]
    }
   ],
   "source": [
    "#15. Convert a set to a list.\n",
    "\n",
    "\n",
    "s = {}\n",
    "s1 = [1, 3, 5, 7, 9]\n",
    "s= set(s1)\n",
    "r=list(s)\n",
    "print(r)\n",
    "     "
   ]
  },
  {
   "cell_type": "code",
   "execution_count": 38,
   "id": "442b611c-151e-4868-9a73-3c4284d7d3ee",
   "metadata": {},
   "outputs": [
    {
     "name": "stdout",
     "output_type": "stream",
     "text": [
      "{1, 3, 5, 9}\n"
     ]
    }
   ],
   "source": [
    "# 16. Remove a random element from a set.\n",
    "\n",
    "\n",
    "\n",
    "import random\n",
    "s1 = {1, 3, 5, 7, 9}\n",
    "s1.remove(random.choice(list(s1))) #choice work when there is indexing so typecaste\n",
    "print(s1)\n",
    "     "
   ]
  },
  {
   "cell_type": "code",
   "execution_count": 40,
   "id": "71ff1122-742d-4217-bd2f-0453fdc57597",
   "metadata": {},
   "outputs": [
    {
     "name": "stdout",
     "output_type": "stream",
     "text": [
      "{3, 5, 7, 9}\n"
     ]
    }
   ],
   "source": [
    "# 17. Pop an element from a set.\n",
    "\n",
    "\n",
    "\n",
    "\n",
    "\n",
    "s1 = {1, 3, 5, 7, 9}\n",
    "s1.pop()\n",
    "print(s1)\n",
    "     "
   ]
  },
  {
   "cell_type": "code",
   "execution_count": 42,
   "id": "d0114e82-5cd3-4ace-bbda-eebf510d8ce4",
   "metadata": {},
   "outputs": [
    {
     "name": "stdout",
     "output_type": "stream",
     "text": [
      "no common\n"
     ]
    }
   ],
   "source": [
    "# 18. Check if two sets have no elements in common.\n",
    "\n",
    "\n",
    "s1 = {1, 3, 5, 7, 9}\n",
    "s2={11,12}\n",
    "\n",
    "for i in s1:\n",
    "    if i in s2:\n",
    "        print(\"common found\")\n",
    "        break\n",
    "else:\n",
    "    print(\"no common\")"
   ]
  },
  {
   "cell_type": "code",
   "execution_count": null,
   "id": "7956ca84-5c2d-47be-8a16-aa08d1abe6a1",
   "metadata": {},
   "outputs": [],
   "source": []
  }
 ],
 "metadata": {
  "kernelspec": {
   "display_name": "Python 3 (ipykernel)",
   "language": "python",
   "name": "python3"
  },
  "language_info": {
   "codemirror_mode": {
    "name": "ipython",
    "version": 3
   },
   "file_extension": ".py",
   "mimetype": "text/x-python",
   "name": "python",
   "nbconvert_exporter": "python",
   "pygments_lexer": "ipython3",
   "version": "3.12.7"
  }
 },
 "nbformat": 4,
 "nbformat_minor": 5
}
